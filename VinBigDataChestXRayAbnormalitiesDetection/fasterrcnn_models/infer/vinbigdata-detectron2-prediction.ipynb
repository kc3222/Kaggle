{
 "cells": [
  {
   "cell_type": "markdown",
   "metadata": {
    "papermill": {
     "duration": 0.015964,
     "end_time": "2021-01-30T16:45:15.813765",
     "exception": false,
     "start_time": "2021-01-30T16:45:15.797801",
     "status": "completed"
    },
    "tags": []
   },
   "source": [
    "# VinBigData detectron2 prediction\n",
    "\n",
    "\n",
    "**Following from the training kernel [VinBigData detectron2 train](https://www.kaggle.com/corochann/vinbigdata-detectron2-train), I will try prediction with the `detectron2` trained model**\n",
    "\n",
    "`detectron2` is one of the famous pytorch object detection library, I will introduce how to use this library to predict bounding boxes with the trained model.\n",
    "\n",
    " - https://github.com/facebookresearch/detectron2\n",
    "\n",
    "> Detectron2 is Facebook AI Research's next generation software system that implements state-of-the-art object detection algorithms. It is a ground-up rewrite of the previous version, Detectron, and it originates from maskrcnn-benchmark.\n",
    "![](https://user-images.githubusercontent.com/1381301/66535560-d3422200-eace-11e9-9123-5535d469db19.png)\n",
    "\n",
    "\n",
    "## Version history\n",
    "\n",
    "2021/1/22: Update to add 2-class filter in troduced in [VinBigData 🌟2 Class Filter🌟](https://www.kaggle.com/awsaf49/vinbigdata-2-class-filter) by @awsaf49 <br/>\n",
    "I also wrote kernel to train 2-class model: [📸VinBigData 2-class classifier complete pipeline](https://www.kaggle.com/corochann/vinbigdata-2-class-classifier-complete-pipeline)"
   ]
  },
  {
   "cell_type": "markdown",
   "metadata": {
    "papermill": {
     "duration": 0.014692,
     "end_time": "2021-01-30T16:45:15.843560",
     "exception": false,
     "start_time": "2021-01-30T16:45:15.828868",
     "status": "completed"
    },
    "tags": []
   },
   "source": [
    "# Table of Contents\n",
    "\n",
    "** [Prediction method implementations](#pred_method)** <br/>\n",
    "** [Prediction scripts](#pred_scripts)** <br/>\n",
    "** [Apply 2 class filter](#2class)** <br/>\n",
    "** [Other kernels](#ref)** <br/>\n",
    "\n",
    "Since first setup part is same with the training kernel, I skipped listing on ToC."
   ]
  },
  {
   "cell_type": "markdown",
   "metadata": {
    "papermill": {
     "duration": 0.0144,
     "end_time": "2021-01-30T16:45:15.872523",
     "exception": false,
     "start_time": "2021-01-30T16:45:15.858123",
     "status": "completed"
    },
    "tags": []
   },
   "source": [
    "# Dataset preparation\n",
    "\n",
    "Preprocessing x-ray image format (dicom) into normal png image format is already done by @xhlulu in the below discussion:\n",
    " - [Multiple preprocessed datasets: 256/512/1024px, PNG and JPG, modified and original ratio](https://www.kaggle.com/c/vinbigdata-chest-xray-abnormalities-detection/discussion/207955).\n",
    "\n",
    "Here I will just use the dataset [VinBigData Chest X-ray Resized PNG (256x256)](https://www.kaggle.com/xhlulu/vinbigdata-chest-xray-resized-png-256x256) to skip the preprocessing and focus on modeling part. Please upvote the dataset as well!"
   ]
  },
  {
   "cell_type": "code",
   "execution_count": 1,
   "metadata": {
    "_kg_hide-input": true,
    "execution": {
     "iopub.execute_input": "2021-01-30T16:45:15.911832Z",
     "iopub.status.busy": "2021-01-30T16:45:15.911125Z",
     "iopub.status.idle": "2021-01-30T16:45:23.298904Z",
     "shell.execute_reply": "2021-01-30T16:45:23.297756Z"
    },
    "papermill": {
     "duration": 7.411813,
     "end_time": "2021-01-30T16:45:23.299030",
     "exception": false,
     "start_time": "2021-01-30T16:45:15.887217",
     "status": "completed"
    },
    "tags": []
   },
   "outputs": [
    {
     "data": {
      "text/html": [
       "        <script type=\"text/javascript\">\n",
       "        window.PlotlyConfig = {MathJaxConfig: 'local'};\n",
       "        if (window.MathJax) {MathJax.Hub.Config({SVG: {font: \"STIX-Web\"}});}\n",
       "        if (typeof require !== 'undefined') {\n",
       "        require.undef(\"plotly\");\n",
       "        requirejs.config({\n",
       "            paths: {\n",
       "                'plotly': ['https://cdn.plot.ly/plotly-latest.min']\n",
       "            }\n",
       "        });\n",
       "        require(['plotly'], function(Plotly) {\n",
       "            window._Plotly = Plotly;\n",
       "        });\n",
       "        }\n",
       "        </script>\n",
       "        "
      ]
     },
     "metadata": {},
     "output_type": "display_data"
    },
    {
     "data": {
      "text/html": [
       "<style type='text/css'>\n",
       ".datatable table.frame { margin-bottom: 0; }\n",
       ".datatable table.frame thead { border-bottom: none; }\n",
       ".datatable table.frame tr.coltypes td {  color: #FFFFFF;  line-height: 6px;  padding: 0 0.5em;}\n",
       ".datatable .bool    { background: #DDDD99; }\n",
       ".datatable .object  { background: #565656; }\n",
       ".datatable .int     { background: #5D9E5D; }\n",
       ".datatable .float   { background: #4040CC; }\n",
       ".datatable .str     { background: #CC4040; }\n",
       ".datatable .row_index {  background: var(--jp-border-color3);  border-right: 1px solid var(--jp-border-color0);  color: var(--jp-ui-font-color3);  font-size: 9px;}\n",
       ".datatable .frame tr.coltypes .row_index {  background: var(--jp-border-color0);}\n",
       ".datatable th:nth-child(2) { padding-left: 12px; }\n",
       ".datatable .hellipsis {  color: var(--jp-cell-editor-border-color);}\n",
       ".datatable .vellipsis {  background: var(--jp-layout-color0);  color: var(--jp-cell-editor-border-color);}\n",
       ".datatable .na {  color: var(--jp-cell-editor-border-color);  font-size: 80%;}\n",
       ".datatable .footer { font-size: 9px; }\n",
       ".datatable .frame_dimensions {  background: var(--jp-border-color3);  border-top: 1px solid var(--jp-border-color0);  color: var(--jp-ui-font-color3);  display: inline-block;  opacity: 0.6;  padding: 1px 10px 1px 5px;}\n",
       "</style>\n"
      ],
      "text/plain": [
       "<IPython.core.display.HTML object>"
      ]
     },
     "metadata": {},
     "output_type": "display_data"
    }
   ],
   "source": [
    "import gc\n",
    "import os\n",
    "from pathlib import Path\n",
    "import random\n",
    "import sys\n",
    "\n",
    "from tqdm.notebook import tqdm\n",
    "import numpy as np\n",
    "import pandas as pd\n",
    "import scipy as sp\n",
    "\n",
    "\n",
    "import matplotlib.pyplot as plt\n",
    "import seaborn as sns\n",
    "\n",
    "from IPython.core.display import display, HTML\n",
    "\n",
    "# --- plotly ---\n",
    "from plotly import tools, subplots\n",
    "import plotly.offline as py\n",
    "py.init_notebook_mode(connected=True)\n",
    "import plotly.graph_objs as go\n",
    "import plotly.express as px\n",
    "import plotly.figure_factory as ff\n",
    "import plotly.io as pio\n",
    "pio.templates.default = \"plotly_dark\"\n",
    "\n",
    "# --- models ---\n",
    "from sklearn import preprocessing\n",
    "from sklearn.model_selection import KFold\n",
    "import lightgbm as lgb\n",
    "import xgboost as xgb\n",
    "import catboost as cb\n",
    "\n",
    "# --- setup ---\n",
    "pd.set_option('max_columns', 50)\n"
   ]
  },
  {
   "cell_type": "markdown",
   "metadata": {
    "papermill": {
     "duration": 0.016082,
     "end_time": "2021-01-30T16:45:23.331733",
     "exception": false,
     "start_time": "2021-01-30T16:45:23.315651",
     "status": "completed"
    },
    "tags": []
   },
   "source": [
    "# Installation\n",
    "\n",
    "detectron2 is not pre-installed in this kaggle docker, so let's install it. \n",
    "We can follow [installation instruction](https://github.com/facebookresearch/detectron2/blob/master/INSTALL.md), we need to know CUDA and pytorch version to install correct `detectron2`."
   ]
  },
  {
   "cell_type": "code",
   "execution_count": 2,
   "metadata": {
    "_kg_hide-input": true,
    "_kg_hide-output": true,
    "execution": {
     "iopub.execute_input": "2021-01-30T16:45:23.373664Z",
     "iopub.status.busy": "2021-01-30T16:45:23.372934Z",
     "iopub.status.idle": "2021-01-30T16:45:24.101280Z",
     "shell.execute_reply": "2021-01-30T16:45:24.100801Z"
    },
    "papermill": {
     "duration": 0.753701,
     "end_time": "2021-01-30T16:45:24.101409",
     "exception": false,
     "start_time": "2021-01-30T16:45:23.347708",
     "status": "completed"
    },
    "tags": []
   },
   "outputs": [
    {
     "name": "stdout",
     "output_type": "stream",
     "text": [
      "Sat Jan 30 16:45:23 2021       \r\n",
      "+-----------------------------------------------------------------------------+\r\n",
      "| NVIDIA-SMI 450.51.06    Driver Version: 450.51.06    CUDA Version: 11.0     |\r\n",
      "|-------------------------------+----------------------+----------------------+\r\n",
      "| GPU  Name        Persistence-M| Bus-Id        Disp.A | Volatile Uncorr. ECC |\r\n",
      "| Fan  Temp  Perf  Pwr:Usage/Cap|         Memory-Usage | GPU-Util  Compute M. |\r\n",
      "|                               |                      |               MIG M. |\r\n",
      "|===============================+======================+======================|\r\n",
      "|   0  Tesla P100-PCIE...  Off  | 00000000:00:04.0 Off |                    0 |\r\n",
      "| N/A   37C    P0    33W / 250W |      2MiB / 16280MiB |      0%      Default |\r\n",
      "|                               |                      |                  N/A |\r\n",
      "+-------------------------------+----------------------+----------------------+\r\n",
      "                                                                               \r\n",
      "+-----------------------------------------------------------------------------+\r\n",
      "| Processes:                                                                  |\r\n",
      "|  GPU   GI   CI        PID   Type   Process name                  GPU Memory |\r\n",
      "|        ID   ID                                                   Usage      |\r\n",
      "|=============================================================================|\r\n",
      "|  No running processes found                                                 |\r\n",
      "+-----------------------------------------------------------------------------+\r\n"
     ]
    }
   ],
   "source": [
    "!nvidia-smi"
   ]
  },
  {
   "cell_type": "code",
   "execution_count": 3,
   "metadata": {
    "_kg_hide-input": true,
    "_kg_hide-output": true,
    "execution": {
     "iopub.execute_input": "2021-01-30T16:45:24.167991Z",
     "iopub.status.busy": "2021-01-30T16:45:24.167001Z",
     "iopub.status.idle": "2021-01-30T16:45:24.921673Z",
     "shell.execute_reply": "2021-01-30T16:45:24.922135Z"
    },
    "papermill": {
     "duration": 0.797157,
     "end_time": "2021-01-30T16:45:24.922259",
     "exception": false,
     "start_time": "2021-01-30T16:45:24.125102",
     "status": "completed"
    },
    "tags": []
   },
   "outputs": [
    {
     "name": "stdout",
     "output_type": "stream",
     "text": [
      "nvcc: NVIDIA (R) Cuda compiler driver\r\n",
      "Copyright (c) 2005-2019 NVIDIA Corporation\r\n",
      "Built on Wed_Oct_23_19:24:38_PDT_2019\r\n",
      "Cuda compilation tools, release 10.2, V10.2.89\r\n"
     ]
    }
   ],
   "source": [
    "!nvcc --version"
   ]
  },
  {
   "cell_type": "code",
   "execution_count": 4,
   "metadata": {
    "_kg_hide-input": true,
    "_kg_hide-output": true,
    "execution": {
     "iopub.execute_input": "2021-01-30T16:45:24.962220Z",
     "iopub.status.busy": "2021-01-30T16:45:24.961493Z",
     "iopub.status.idle": "2021-01-30T16:45:25.979685Z",
     "shell.execute_reply": "2021-01-30T16:45:25.979053Z"
    },
    "papermill": {
     "duration": 1.039898,
     "end_time": "2021-01-30T16:45:25.979830",
     "exception": false,
     "start_time": "2021-01-30T16:45:24.939932",
     "status": "completed"
    },
    "tags": []
   },
   "outputs": [
    {
     "data": {
      "text/plain": [
       "'1.7.0'"
      ]
     },
     "execution_count": 4,
     "metadata": {},
     "output_type": "execute_result"
    }
   ],
   "source": [
    "import torch\n",
    "\n",
    "torch.__version__"
   ]
  },
  {
   "cell_type": "markdown",
   "metadata": {
    "papermill": {
     "duration": 0.016698,
     "end_time": "2021-01-30T16:45:26.014254",
     "exception": false,
     "start_time": "2021-01-30T16:45:25.997556",
     "status": "completed"
    },
    "tags": []
   },
   "source": [
    "It seems CUDA=10.2 and torch==1.7.0 is used in this kaggle docker image.\n",
    "\n",
    "See [installation](https://detectron2.readthedocs.io/tutorials/install.html) for details."
   ]
  },
  {
   "cell_type": "code",
   "execution_count": 5,
   "metadata": {
    "_kg_hide-output": true,
    "execution": {
     "iopub.execute_input": "2021-01-30T16:45:26.058804Z",
     "iopub.status.busy": "2021-01-30T16:45:26.052945Z",
     "iopub.status.idle": "2021-01-30T16:45:47.550139Z",
     "shell.execute_reply": "2021-01-30T16:45:47.549630Z"
    },
    "papermill": {
     "duration": 21.519153,
     "end_time": "2021-01-30T16:45:47.550238",
     "exception": false,
     "start_time": "2021-01-30T16:45:26.031085",
     "status": "completed"
    },
    "tags": []
   },
   "outputs": [
    {
     "name": "stdout",
     "output_type": "stream",
     "text": [
      "Looking in links: https://dl.fbaipublicfiles.com/detectron2/wheels/cu102/torch1.7/index.html\r\n",
      "Collecting detectron2\r\n",
      "  Downloading https://dl.fbaipublicfiles.com/detectron2/wheels/cu102/torch1.7/detectron2-0.3%2Bcu102-cp37-cp37m-linux_x86_64.whl (6.8 MB)\r\n",
      "\u001b[K     |████████████████████████████████| 6.8 MB 646 kB/s \r\n",
      "\u001b[?25hRequirement already satisfied: cloudpickle in /opt/conda/lib/python3.7/site-packages (from detectron2) (1.6.0)\r\n",
      "Requirement already satisfied: future in /opt/conda/lib/python3.7/site-packages (from detectron2) (0.18.2)\r\n",
      "Requirement already satisfied: Pillow>=7.1 in /opt/conda/lib/python3.7/site-packages (from detectron2) (8.0.1)\r\n",
      "Requirement already satisfied: yacs>=0.1.6 in /opt/conda/lib/python3.7/site-packages (from detectron2) (0.1.8)\r\n",
      "Requirement already satisfied: tqdm>4.29.0 in /opt/conda/lib/python3.7/site-packages (from detectron2) (4.45.0)\r\n",
      "Requirement already satisfied: pydot in /opt/conda/lib/python3.7/site-packages (from detectron2) (1.4.1)\r\n",
      "Requirement already satisfied: matplotlib in /opt/conda/lib/python3.7/site-packages (from detectron2) (3.2.1)\r\n",
      "Requirement already satisfied: tabulate in /opt/conda/lib/python3.7/site-packages (from detectron2) (0.8.7)\r\n",
      "Requirement already satisfied: termcolor>=1.1 in /opt/conda/lib/python3.7/site-packages (from detectron2) (1.1.0)\r\n",
      "Requirement already satisfied: tensorboard in /opt/conda/lib/python3.7/site-packages (from detectron2) (2.4.0)\r\n",
      "Collecting fvcore>=0.1.2\r\n",
      "  Downloading fvcore-0.1.2.post20210128.tar.gz (32 kB)\r\n",
      "Requirement already satisfied: numpy in /opt/conda/lib/python3.7/site-packages (from fvcore>=0.1.2->detectron2) (1.18.5)\r\n",
      "Requirement already satisfied: yacs>=0.1.6 in /opt/conda/lib/python3.7/site-packages (from detectron2) (0.1.8)\r\n",
      "Requirement already satisfied: pyyaml>=5.1 in /opt/conda/lib/python3.7/site-packages (from fvcore>=0.1.2->detectron2) (5.3.1)\r\n",
      "Requirement already satisfied: tqdm>4.29.0 in /opt/conda/lib/python3.7/site-packages (from detectron2) (4.45.0)\r\n",
      "Requirement already satisfied: termcolor>=1.1 in /opt/conda/lib/python3.7/site-packages (from detectron2) (1.1.0)\r\n",
      "Requirement already satisfied: Pillow>=7.1 in /opt/conda/lib/python3.7/site-packages (from detectron2) (8.0.1)\r\n",
      "Requirement already satisfied: tabulate in /opt/conda/lib/python3.7/site-packages (from detectron2) (0.8.7)\r\n",
      "Collecting iopath>=0.1.2\r\n",
      "  Downloading iopath-0.1.3.tar.gz (10 kB)\r\n",
      "Requirement already satisfied: tqdm>4.29.0 in /opt/conda/lib/python3.7/site-packages (from detectron2) (4.45.0)\r\n",
      "Requirement already satisfied: portalocker in /opt/conda/lib/python3.7/site-packages (from iopath>=0.1.2->fvcore>=0.1.2->detectron2) (2.0.0)\r\n",
      "Requirement already satisfied: python-dateutil>=2.1 in /opt/conda/lib/python3.7/site-packages (from matplotlib->detectron2) (2.8.1)\r\n",
      "Requirement already satisfied: numpy in /opt/conda/lib/python3.7/site-packages (from fvcore>=0.1.2->detectron2) (1.18.5)\r\n",
      "Requirement already satisfied: pyparsing!=2.0.4,!=2.1.2,!=2.1.6,>=2.0.1 in /opt/conda/lib/python3.7/site-packages (from matplotlib->detectron2) (2.4.7)\r\n",
      "Requirement already satisfied: kiwisolver>=1.0.1 in /opt/conda/lib/python3.7/site-packages (from matplotlib->detectron2) (1.2.0)\r\n",
      "Requirement already satisfied: cycler>=0.10 in /opt/conda/lib/python3.7/site-packages (from matplotlib->detectron2) (0.10.0)\r\n",
      "Requirement already satisfied: six in /opt/conda/lib/python3.7/site-packages (from cycler>=0.10->matplotlib->detectron2) (1.14.0)\r\n",
      "Collecting pycocotools>=2.0.2\r\n",
      "  Downloading pycocotools-2.0.2.tar.gz (23 kB)\r\n",
      "Requirement already satisfied: setuptools>=18.0 in /opt/conda/lib/python3.7/site-packages (from pycocotools>=2.0.2->detectron2) (46.1.3.post20200325)\r\n",
      "Requirement already satisfied: cython>=0.27.3 in /opt/conda/lib/python3.7/site-packages (from pycocotools>=2.0.2->detectron2) (0.29.21)\r\n",
      "Requirement already satisfied: matplotlib in /opt/conda/lib/python3.7/site-packages (from detectron2) (3.2.1)\r\n",
      "Requirement already satisfied: pyparsing!=2.0.4,!=2.1.2,!=2.1.6,>=2.0.1 in /opt/conda/lib/python3.7/site-packages (from matplotlib->detectron2) (2.4.7)\r\n",
      "Requirement already satisfied: six in /opt/conda/lib/python3.7/site-packages (from cycler>=0.10->matplotlib->detectron2) (1.14.0)\r\n",
      "Requirement already satisfied: requests<3,>=2.21.0 in /opt/conda/lib/python3.7/site-packages (from tensorboard->detectron2) (2.23.0)\r\n",
      "Requirement already satisfied: wheel>=0.26 in /opt/conda/lib/python3.7/site-packages (from tensorboard->detectron2) (0.34.2)\r\n",
      "Requirement already satisfied: absl-py>=0.4 in /opt/conda/lib/python3.7/site-packages (from tensorboard->detectron2) (0.10.0)\r\n",
      "Requirement already satisfied: google-auth<2,>=1.6.3 in /opt/conda/lib/python3.7/site-packages (from tensorboard->detectron2) (1.23.0)\r\n",
      "Requirement already satisfied: setuptools>=18.0 in /opt/conda/lib/python3.7/site-packages (from pycocotools>=2.0.2->detectron2) (46.1.3.post20200325)\r\n",
      "Requirement already satisfied: google-auth-oauthlib<0.5,>=0.4.1 in /opt/conda/lib/python3.7/site-packages (from tensorboard->detectron2) (0.4.1)\r\n",
      "Requirement already satisfied: protobuf>=3.6.0 in /opt/conda/lib/python3.7/site-packages (from tensorboard->detectron2) (3.14.0)\r\n",
      "Requirement already satisfied: six in /opt/conda/lib/python3.7/site-packages (from cycler>=0.10->matplotlib->detectron2) (1.14.0)\r\n",
      "Requirement already satisfied: tensorboard-plugin-wit>=1.6.0 in /opt/conda/lib/python3.7/site-packages (from tensorboard->detectron2) (1.7.0)\r\n",
      "Requirement already satisfied: grpcio>=1.24.3 in /opt/conda/lib/python3.7/site-packages (from tensorboard->detectron2) (1.34.0)\r\n",
      "Requirement already satisfied: werkzeug>=0.11.15 in /opt/conda/lib/python3.7/site-packages (from tensorboard->detectron2) (1.0.1)\r\n",
      "Requirement already satisfied: numpy in /opt/conda/lib/python3.7/site-packages (from fvcore>=0.1.2->detectron2) (1.18.5)\r\n",
      "Requirement already satisfied: markdown>=2.6.8 in /opt/conda/lib/python3.7/site-packages (from tensorboard->detectron2) (3.2.1)\r\n",
      "Requirement already satisfied: six in /opt/conda/lib/python3.7/site-packages (from cycler>=0.10->matplotlib->detectron2) (1.14.0)\r\n",
      "Requirement already satisfied: cachetools<5.0,>=2.0.0 in /opt/conda/lib/python3.7/site-packages (from google-auth<2,>=1.6.3->tensorboard->detectron2) (3.1.1)\r\n",
      "Requirement already satisfied: setuptools>=18.0 in /opt/conda/lib/python3.7/site-packages (from pycocotools>=2.0.2->detectron2) (46.1.3.post20200325)\r\n",
      "Requirement already satisfied: rsa<5,>=3.1.4 in /opt/conda/lib/python3.7/site-packages (from google-auth<2,>=1.6.3->tensorboard->detectron2) (4.0)\r\n",
      "Requirement already satisfied: pyasn1-modules>=0.2.1 in /opt/conda/lib/python3.7/site-packages (from google-auth<2,>=1.6.3->tensorboard->detectron2) (0.2.7)\r\n",
      "Requirement already satisfied: six in /opt/conda/lib/python3.7/site-packages (from cycler>=0.10->matplotlib->detectron2) (1.14.0)\r\n",
      "Requirement already satisfied: google-auth<2,>=1.6.3 in /opt/conda/lib/python3.7/site-packages (from tensorboard->detectron2) (1.23.0)\r\n",
      "Requirement already satisfied: requests-oauthlib>=0.7.0 in /opt/conda/lib/python3.7/site-packages (from google-auth-oauthlib<0.5,>=0.4.1->tensorboard->detectron2) (1.2.0)\r\n",
      "Requirement already satisfied: six in /opt/conda/lib/python3.7/site-packages (from cycler>=0.10->matplotlib->detectron2) (1.14.0)\r\n",
      "Requirement already satisfied: setuptools>=18.0 in /opt/conda/lib/python3.7/site-packages (from pycocotools>=2.0.2->detectron2) (46.1.3.post20200325)\r\n",
      "Requirement already satisfied: six in /opt/conda/lib/python3.7/site-packages (from cycler>=0.10->matplotlib->detectron2) (1.14.0)\r\n",
      "Requirement already satisfied: pyasn1<0.5.0,>=0.4.6 in /opt/conda/lib/python3.7/site-packages (from pyasn1-modules>=0.2.1->google-auth<2,>=1.6.3->tensorboard->detectron2) (0.4.8)\r\n",
      "Requirement already satisfied: idna<3,>=2.5 in /opt/conda/lib/python3.7/site-packages (from requests<3,>=2.21.0->tensorboard->detectron2) (2.9)\r\n",
      "Requirement already satisfied: chardet<4,>=3.0.2 in /opt/conda/lib/python3.7/site-packages (from requests<3,>=2.21.0->tensorboard->detectron2) (3.0.4)\r\n",
      "Requirement already satisfied: certifi>=2017.4.17 in /opt/conda/lib/python3.7/site-packages (from requests<3,>=2.21.0->tensorboard->detectron2) (2020.12.5)\r\n",
      "Requirement already satisfied: urllib3!=1.25.0,!=1.25.1,<1.26,>=1.21.1 in /opt/conda/lib/python3.7/site-packages (from requests<3,>=2.21.0->tensorboard->detectron2) (1.25.9)\r\n",
      "Requirement already satisfied: requests<3,>=2.21.0 in /opt/conda/lib/python3.7/site-packages (from tensorboard->detectron2) (2.23.0)\r\n",
      "Requirement already satisfied: oauthlib>=3.0.0 in /opt/conda/lib/python3.7/site-packages (from requests-oauthlib>=0.7.0->google-auth-oauthlib<0.5,>=0.4.1->tensorboard->detectron2) (3.0.1)\r\n",
      "Requirement already satisfied: pyasn1<0.5.0,>=0.4.6 in /opt/conda/lib/python3.7/site-packages (from pyasn1-modules>=0.2.1->google-auth<2,>=1.6.3->tensorboard->detectron2) (0.4.8)\r\n",
      "Requirement already satisfied: pyyaml>=5.1 in /opt/conda/lib/python3.7/site-packages (from fvcore>=0.1.2->detectron2) (5.3.1)\r\n",
      "Building wheels for collected packages: fvcore, iopath, pycocotools\r\n",
      "  Building wheel for fvcore (setup.py) ... \u001b[?25l-\b \b\\\b \bdone\r\n",
      "\u001b[?25h  Created wheel for fvcore: filename=fvcore-0.1.2.post20210128-py3-none-any.whl size=41551 sha256=49b20beb40f4e1aa5198ea2665e4f28f83dc0f00e942ca32d80636a4b0170e0e\r\n",
      "  Stored in directory: /root/.cache/pip/wheels/b4/44/0f/a73b9c37698c8bdbc859a9088fb808cc8727aeb4d07cc1b5cf\r\n",
      "  Building wheel for iopath (setup.py) ... \u001b[?25l-\b \bdone\r\n",
      "\u001b[?25h  Created wheel for iopath: filename=iopath-0.1.3-py3-none-any.whl size=11169 sha256=a526e86ccd8449028cbdf56e4fd1afe12569d82d84bfec22a44465f8082500be\r\n",
      "  Stored in directory: /root/.cache/pip/wheels/33/44/20/06445612ad8cf4ad6250aee85516e9499d5a49151ef5358164\r\n",
      "  Building wheel for pycocotools (setup.py) ... \u001b[?25l-\b \b\\\b \b|\b \b/\b \b-\b \b\\\b \b|\b \b/\b \bdone\r\n",
      "\u001b[?25h  Created wheel for pycocotools: filename=pycocotools-2.0.2-cp37-cp37m-linux_x86_64.whl size=273766 sha256=c848f92c0c6d18ef2538e9f1f4f94d3a786fc172d176feffd7e7f6f3be354241\r\n",
      "  Stored in directory: /root/.cache/pip/wheels/bc/cf/1b/e95c99c5f9d1648be3f500ca55e7ce55f24818b0f48336adaf\r\n",
      "Successfully built fvcore iopath pycocotools\r\n",
      "Installing collected packages: iopath, pycocotools, fvcore, detectron2\r\n",
      "Successfully installed detectron2-0.3+cu102 fvcore-0.1.2.post20210128 iopath-0.1.3 pycocotools-2.0.2\r\n",
      "\u001b[33mWARNING: You are using pip version 20.3.1; however, version 21.0.1 is available.\r\n",
      "You should consider upgrading via the '/opt/conda/bin/python3.7 -m pip install --upgrade pip' command.\u001b[0m\r\n"
     ]
    }
   ],
   "source": [
    "!pip install detectron2 -f \\\n",
    "  https://dl.fbaipublicfiles.com/detectron2/wheels/cu102/torch1.7/index.html"
   ]
  },
  {
   "cell_type": "markdown",
   "metadata": {
    "papermill": {
     "duration": 0.030746,
     "end_time": "2021-01-30T16:45:47.613147",
     "exception": false,
     "start_time": "2021-01-30T16:45:47.582401",
     "status": "completed"
    },
    "tags": []
   },
   "source": [
    "<a id=\"pred_method\"></a>\n",
    "# Prediction method implementations\n",
    "\n",
    "Basically we don't need to implement neural network part, `detectron2` already implements famous architectures and provides its pre-trained weights. We can finetune these pre-trained architectures.\n",
    "\n",
    "These models are summarized in [MODEL_ZOO.md](https://github.com/facebookresearch/detectron2/blob/master/MODEL_ZOO.md).\n",
    "\n",
    "In this competition, we need object detection model, I will choose [R50-FPN](https://github.com/facebookresearch/detectron2/blob/master/configs/COCO-Detection/faster_rcnn_R_50_FPN_3x.yaml) for this kernel."
   ]
  },
  {
   "cell_type": "markdown",
   "metadata": {
    "papermill": {
     "duration": 0.031358,
     "end_time": "2021-01-30T16:45:47.675495",
     "exception": false,
     "start_time": "2021-01-30T16:45:47.644137",
     "status": "completed"
    },
    "tags": []
   },
   "source": [
    "## Data preparation\n",
    "\n",
    "`detectron2` provides high-level API for training custom dataset.\n",
    "\n",
    "To define custom dataset, we need to create **list of dict** where each dict contains following:\n",
    "\n",
    " - file_name: file name of the image.\n",
    " - image_id: id of the image, index is used here.\n",
    " - height: height of the image.\n",
    " - width: width of the image.\n",
    " - annotation: This is the ground truth annotation data for object detection, which contains following\n",
    "     - bbox: bounding box pixel location with shape (n_boxes, 4)\n",
    "     - bbox_mode: `BoxMode.XYXY_ABS` is used here, meaning that absolute value of (xmin, ymin, xmax, ymax) annotation is used in the `bbox`.\n",
    "     - category_id: class label id for each bounding box, with shape (n_boxes,)\n",
    "\n",
    "`get_vinbigdata_dicts` is for train dataset preparation and `get_vinbigdata_dicts_test` is for test dataset preparation."
   ]
  },
  {
   "cell_type": "code",
   "execution_count": 6,
   "metadata": {
    "_kg_hide-input": true,
    "execution": {
     "iopub.execute_input": "2021-01-30T16:45:47.767436Z",
     "iopub.status.busy": "2021-01-30T16:45:47.763002Z",
     "iopub.status.idle": "2021-01-30T16:45:48.263761Z",
     "shell.execute_reply": "2021-01-30T16:45:48.262660Z"
    },
    "papermill": {
     "duration": 0.556916,
     "end_time": "2021-01-30T16:45:48.263876",
     "exception": false,
     "start_time": "2021-01-30T16:45:47.706960",
     "status": "completed"
    },
    "tags": []
   },
   "outputs": [],
   "source": [
    "import pickle\n",
    "from pathlib import Path\n",
    "\n",
    "import cv2\n",
    "import pandas as pd\n",
    "from detectron2.structures import BoxMode\n",
    "from tqdm import tqdm\n",
    "\n",
    "\n",
    "def get_vinbigdata_dicts(\n",
    "    imgdir: Path, train: pd.DataFrame, use_cache: bool = True, debug: bool = True,\n",
    "):\n",
    "    debug_str = f\"_debug{int(debug)}\"\n",
    "    cache_path = Path(\".\") / f\"dataset_dicts_cache{debug_str}.pkl\"\n",
    "    if not use_cache or not cache_path.exists():\n",
    "        print(\"Creating data...\")\n",
    "        train_meta = pd.read_csv(imgdir / \"train_meta.csv\")\n",
    "        if debug:\n",
    "            train_meta = train_meta.iloc[:500]  # For debug....\n",
    "\n",
    "        # Load 1 image to get image size.\n",
    "        image_id = train_meta.loc[0, \"image_id\"]\n",
    "        image_path = str(imgdir / \"train\" / f\"{image_id}.png\")\n",
    "        image = cv2.imread(image_path)\n",
    "        resized_height, resized_width, ch = image.shape\n",
    "        print(f\"image shape: {image.shape}\")\n",
    "\n",
    "        dataset_dicts = []\n",
    "        for index, train_meta_row in tqdm(train_meta.iterrows(), total=len(train_meta)):\n",
    "            record = {}\n",
    "\n",
    "            image_id, height, width = train_meta_row.values\n",
    "            filename = str(imgdir / \"train\" / f\"{image_id}.png\")\n",
    "            record[\"file_name\"] = filename\n",
    "            record[\"image_id\"] = index\n",
    "            record[\"height\"] = resized_height\n",
    "            record[\"width\"] = resized_width\n",
    "            objs = []\n",
    "            for index2, row in train.query(\"image_id == @image_id\").iterrows():\n",
    "                # print(row)\n",
    "                # print(row[\"class_name\"])\n",
    "                # class_name = row[\"class_name\"]\n",
    "                class_id = row[\"class_id\"]\n",
    "                if class_id == 14:\n",
    "                    # It is \"No finding\"\n",
    "                    # This annotator does not find anything, skip.\n",
    "                    pass\n",
    "                else:\n",
    "                    # bbox_original = [int(row[\"x_min\"]), int(row[\"y_min\"]), int(row[\"x_max\"]), int(row[\"y_max\"])]\n",
    "                    h_ratio = resized_height / height\n",
    "                    w_ratio = resized_width / width\n",
    "                    bbox_resized = [\n",
    "                        int(row[\"x_min\"]) * w_ratio,\n",
    "                        int(row[\"y_min\"]) * h_ratio,\n",
    "                        int(row[\"x_max\"]) * w_ratio,\n",
    "                        int(row[\"y_max\"]) * h_ratio,\n",
    "                    ]\n",
    "                    obj = {\n",
    "                        \"bbox\": bbox_resized,\n",
    "                        \"bbox_mode\": BoxMode.XYXY_ABS,\n",
    "                        \"category_id\": class_id,\n",
    "                    }\n",
    "                    objs.append(obj)\n",
    "            record[\"annotations\"] = objs\n",
    "            dataset_dicts.append(record)\n",
    "        with open(cache_path, mode=\"wb\") as f:\n",
    "            pickle.dump(dataset_dicts, f)\n",
    "\n",
    "    print(f\"Load from cache {cache_path}\")\n",
    "    with open(cache_path, mode=\"rb\") as f:\n",
    "        dataset_dicts = pickle.load(f)\n",
    "    return dataset_dicts\n",
    "\n",
    "\n",
    "def get_vinbigdata_dicts_test(\n",
    "    imgdir: Path, test_meta: pd.DataFrame, use_cache: bool = True, debug: bool = True,\n",
    "):\n",
    "    debug_str = f\"_debug{int(debug)}\"\n",
    "    cache_path = Path(\".\") / f\"dataset_dicts_cache_test{debug_str}.pkl\"\n",
    "    if not use_cache or not cache_path.exists():\n",
    "        print(\"Creating data...\")\n",
    "        # test_meta = pd.read_csv(imgdir / \"test_meta.csv\")\n",
    "        if debug:\n",
    "            test_meta = test_meta.iloc[:500]  # For debug....\n",
    "\n",
    "        # Load 1 image to get image size.\n",
    "        image_id = test_meta.loc[0, \"image_id\"]\n",
    "        image_path = str(imgdir / \"test\" / f\"{image_id}.png\")\n",
    "        image = cv2.imread(image_path)\n",
    "        resized_height, resized_width, ch = image.shape\n",
    "        print(f\"image shape: {image.shape}\")\n",
    "\n",
    "        dataset_dicts = []\n",
    "        for index, test_meta_row in tqdm(test_meta.iterrows(), total=len(test_meta)):\n",
    "            record = {}\n",
    "\n",
    "            image_id, height, width = test_meta_row.values\n",
    "            filename = str(imgdir / \"test\" / f\"{image_id}.png\")\n",
    "            record[\"file_name\"] = filename\n",
    "            record[\"image_id\"] = index\n",
    "            record[\"height\"] = resized_height\n",
    "            record[\"width\"] = resized_width\n",
    "            # objs = []\n",
    "            # record[\"annotations\"] = objs\n",
    "            dataset_dicts.append(record)\n",
    "        with open(cache_path, mode=\"wb\") as f:\n",
    "            pickle.dump(dataset_dicts, f)\n",
    "\n",
    "    print(f\"Load from cache {cache_path}\")\n",
    "    with open(cache_path, mode=\"rb\") as f:\n",
    "        dataset_dicts = pickle.load(f)\n",
    "    return dataset_dicts\n"
   ]
  },
  {
   "cell_type": "markdown",
   "metadata": {
    "papermill": {
     "duration": 0.031605,
     "end_time": "2021-01-30T16:45:48.327773",
     "exception": false,
     "start_time": "2021-01-30T16:45:48.296168",
     "status": "completed"
    },
    "tags": []
   },
   "source": [
    "Methods for prediction for this competition"
   ]
  },
  {
   "cell_type": "code",
   "execution_count": 7,
   "metadata": {
    "_kg_hide-input": true,
    "execution": {
     "iopub.execute_input": "2021-01-30T16:45:48.405924Z",
     "iopub.status.busy": "2021-01-30T16:45:48.404995Z",
     "iopub.status.idle": "2021-01-30T16:45:48.507754Z",
     "shell.execute_reply": "2021-01-30T16:45:48.507233Z"
    },
    "papermill": {
     "duration": 0.147562,
     "end_time": "2021-01-30T16:45:48.507868",
     "exception": false,
     "start_time": "2021-01-30T16:45:48.360306",
     "status": "completed"
    },
    "tags": []
   },
   "outputs": [],
   "source": [
    "# Methods for prediction for this competition\n",
    "from math import ceil\n",
    "from typing import Any, Dict, List\n",
    "\n",
    "import cv2\n",
    "import detectron2\n",
    "import numpy as np\n",
    "from numpy import ndarray\n",
    "import pandas as pd\n",
    "import torch\n",
    "from detectron2 import model_zoo\n",
    "from detectron2.config import get_cfg\n",
    "from detectron2.data import DatasetCatalog, MetadataCatalog, build_detection_test_loader\n",
    "from detectron2.engine import DefaultPredictor\n",
    "from detectron2.evaluation import COCOEvaluator, inference_on_dataset\n",
    "from detectron2.structures import BoxMode\n",
    "from detectron2.utils.logger import setup_logger\n",
    "from detectron2.utils.visualizer import ColorMode, Visualizer\n",
    "from tqdm import tqdm\n",
    "\n",
    "\n",
    "def format_pred(labels: ndarray, boxes: ndarray, scores: ndarray) -> str:\n",
    "    pred_strings = []\n",
    "    for label, score, bbox in zip(labels, scores, boxes):\n",
    "        xmin, ymin, xmax, ymax = bbox.astype(np.int64)\n",
    "        pred_strings.append(f\"{label} {score} {xmin} {ymin} {xmax} {ymax}\")\n",
    "    return \" \".join(pred_strings)\n",
    "\n",
    "\n",
    "def predict_batch(predictor: DefaultPredictor, im_list: List[ndarray]) -> List:\n",
    "    with torch.no_grad():  # https://github.com/sphinx-doc/sphinx/issues/4258\n",
    "        inputs_list = []\n",
    "        for original_image in im_list:\n",
    "            # Apply pre-processing to image.\n",
    "            if predictor.input_format == \"RGB\":\n",
    "                # whether the model expects BGR inputs or RGB\n",
    "                original_image = original_image[:, :, ::-1]\n",
    "            height, width = original_image.shape[:2]\n",
    "            image = predictor.aug.get_transform(original_image).apply_image(original_image)\n",
    "            image = torch.as_tensor(image.astype(\"float32\").transpose(2, 0, 1))\n",
    "            inputs = {\"image\": image, \"height\": height, \"width\": width}\n",
    "            inputs_list.append(inputs)\n",
    "        predictions = predictor.model(inputs_list)\n",
    "        return predictions\n"
   ]
  },
  {
   "cell_type": "code",
   "execution_count": 8,
   "metadata": {
    "_kg_hide-input": true,
    "_kg_hide-output": true,
    "execution": {
     "iopub.execute_input": "2021-01-30T16:45:48.579731Z",
     "iopub.status.busy": "2021-01-30T16:45:48.578958Z",
     "iopub.status.idle": "2021-01-30T16:45:48.581781Z",
     "shell.execute_reply": "2021-01-30T16:45:48.581305Z"
    },
    "papermill": {
     "duration": 0.041352,
     "end_time": "2021-01-30T16:45:48.581870",
     "exception": false,
     "start_time": "2021-01-30T16:45:48.540518",
     "status": "completed"
    },
    "tags": []
   },
   "outputs": [],
   "source": [
    "# --- utils ---\n",
    "from pathlib import Path\n",
    "from typing import Any, Union\n",
    "\n",
    "import yaml\n",
    "\n",
    "\n",
    "def save_yaml(filepath: Union[str, Path], content: Any, width: int = 120):\n",
    "    with open(filepath, \"w\") as f:\n",
    "        yaml.dump(content, f, width=width)\n",
    "\n",
    "\n",
    "def load_yaml(filepath: Union[str, Path]) -> Any:\n",
    "    with open(filepath, \"r\") as f:\n",
    "        content = yaml.full_load(f)\n",
    "    return content\n"
   ]
  },
  {
   "cell_type": "code",
   "execution_count": 9,
   "metadata": {
    "execution": {
     "iopub.execute_input": "2021-01-30T16:45:48.650909Z",
     "iopub.status.busy": "2021-01-30T16:45:48.650086Z",
     "iopub.status.idle": "2021-01-30T16:45:48.653208Z",
     "shell.execute_reply": "2021-01-30T16:45:48.652771Z"
    },
    "papermill": {
     "duration": 0.039825,
     "end_time": "2021-01-30T16:45:48.653302",
     "exception": false,
     "start_time": "2021-01-30T16:45:48.613477",
     "status": "completed"
    },
    "tags": []
   },
   "outputs": [],
   "source": [
    "# --- configs ---\n",
    "thing_classes = [\n",
    "    \"Aortic enlargement\",\n",
    "    \"Atelectasis\",\n",
    "    \"Calcification\",\n",
    "    \"Cardiomegaly\",\n",
    "    \"Consolidation\",\n",
    "    \"ILD\",\n",
    "    \"Infiltration\",\n",
    "    \"Lung Opacity\",\n",
    "    \"Nodule/Mass\",\n",
    "    \"Other lesion\",\n",
    "    \"Pleural effusion\",\n",
    "    \"Pleural thickening\",\n",
    "    \"Pneumothorax\",\n",
    "    \"Pulmonary fibrosis\"\n",
    "]\n",
    "category_name_to_id = {class_name: index for index, class_name in enumerate(thing_classes)}\n"
   ]
  },
  {
   "cell_type": "markdown",
   "metadata": {
    "papermill": {
     "duration": 0.031921,
     "end_time": "2021-01-30T16:45:48.717878",
     "exception": false,
     "start_time": "2021-01-30T16:45:48.685957",
     "status": "completed"
    },
    "tags": []
   },
   "source": [
    "This `Flags` class is to manage experiments. I will tune these parameters through the competition to improve model's performance."
   ]
  },
  {
   "cell_type": "code",
   "execution_count": 10,
   "metadata": {
    "_kg_hide-input": true,
    "execution": {
     "iopub.execute_input": "2021-01-30T16:45:48.790632Z",
     "iopub.status.busy": "2021-01-30T16:45:48.789665Z",
     "iopub.status.idle": "2021-01-30T16:45:48.793269Z",
     "shell.execute_reply": "2021-01-30T16:45:48.792829Z"
    },
    "papermill": {
     "duration": 0.043423,
     "end_time": "2021-01-30T16:45:48.793355",
     "exception": false,
     "start_time": "2021-01-30T16:45:48.749932",
     "status": "completed"
    },
    "tags": []
   },
   "outputs": [],
   "source": [
    "# --- flags ---\n",
    "from dataclasses import dataclass\n",
    "from typing import Dict\n",
    "\n",
    "\n",
    "@dataclass\n",
    "class Flags:\n",
    "    # General\n",
    "    debug: bool = True\n",
    "    outdir: str = \"results/det\"\n",
    "\n",
    "    # Data config\n",
    "#     imgdir_name: str = \"vinbigdata-chest-xray-resized-png-256x256\"\n",
    "    imgdir_name: str = \"vinbigdata\"\n",
    "    # Training config\n",
    "    iter: int = 10000\n",
    "    ims_per_batch: int = 2  # images per batch, this corresponds to \"total batch size\"\n",
    "    num_workers: int = 4\n",
    "    base_lr: float = 0.00025\n",
    "    roi_batch_size_per_image: int = 512\n",
    "\n",
    "    def update(self, param_dict: Dict) -> \"Flags\":\n",
    "        # Overwrite by `param_dict`\n",
    "        for key, value in param_dict.items():\n",
    "            if not hasattr(self, key):\n",
    "                raise ValueError(f\"[ERROR] Unexpected key for flag = {key}\")\n",
    "            setattr(self, key, value)\n",
    "        return self\n"
   ]
  },
  {
   "cell_type": "markdown",
   "metadata": {
    "papermill": {
     "duration": 0.031536,
     "end_time": "2021-01-30T16:45:48.856857",
     "exception": false,
     "start_time": "2021-01-30T16:45:48.825321",
     "status": "completed"
    },
    "tags": []
   },
   "source": [
    "<a id=\"pred_scripts\"></a>\n",
    "# Prediction scripts\n",
    "\n",
    "Now the methods are ready. Main training scripts starts from here."
   ]
  },
  {
   "cell_type": "code",
   "execution_count": 11,
   "metadata": {
    "_kg_hide-input": true,
    "execution": {
     "iopub.execute_input": "2021-01-30T16:45:48.959495Z",
     "iopub.status.busy": "2021-01-30T16:45:48.958716Z",
     "iopub.status.idle": "2021-01-30T16:45:48.961501Z",
     "shell.execute_reply": "2021-01-30T16:45:48.961075Z"
    },
    "papermill": {
     "duration": 0.039577,
     "end_time": "2021-01-30T16:45:48.961599",
     "exception": false,
     "start_time": "2021-01-30T16:45:48.922022",
     "status": "completed"
    },
    "tags": []
   },
   "outputs": [],
   "source": [
    "flags_dict = {\n",
    "#     \"debug\": True,\n",
    "    \"debug\": False,\n",
    "#     \"outdir\": \"results/debug\",\n",
    "    \"outdir\": \"results\",\n",
    "#     \"imgdir_name\": \"vinbigdata-chest-xray-resized-png-256x256\",\n",
    "    \"imgdir_name\": \"vinbigdata\",\n",
    "    \"iter\": 100,  # debug, small value should be set.\n",
    "    \"roi_batch_size_per_image\": 128  # faster, and good enough for this toy dataset (default: 512)\n",
    "}"
   ]
  },
  {
   "cell_type": "code",
   "execution_count": 12,
   "metadata": {
    "execution": {
     "iopub.execute_input": "2021-01-30T16:45:49.044845Z",
     "iopub.status.busy": "2021-01-30T16:45:49.038733Z",
     "iopub.status.idle": "2021-01-30T16:50:58.264867Z",
     "shell.execute_reply": "2021-01-30T16:50:58.264420Z"
    },
    "papermill": {
     "duration": 309.271557,
     "end_time": "2021-01-30T16:50:58.264969",
     "exception": false,
     "start_time": "2021-01-30T16:45:48.993412",
     "status": "completed"
    },
    "tags": []
   },
   "outputs": [
    {
     "name": "stdout",
     "output_type": "stream",
     "text": [
      "flags Flags(debug=False, outdir='results', imgdir_name='vinbigdata', iter=100, ims_per_batch=2, num_workers=4, base_lr=0.00025, roi_batch_size_per_image=128)\n",
      "cfg.OUTPUT_DIR ./output -> results\n",
      "Original thresh 0.05\n",
      "Changed  thresh 0.0\n"
     ]
    },
    {
     "name": "stderr",
     "output_type": "stream",
     "text": [
      " 36%|███▌      | 1074/3000 [00:00<00:00, 10738.37it/s]"
     ]
    },
    {
     "name": "stdout",
     "output_type": "stream",
     "text": [
      "Creating data...\n",
      "image shape: (512, 512, 3)\n"
     ]
    },
    {
     "name": "stderr",
     "output_type": "stream",
     "text": [
      "100%|██████████| 3000/3000 [00:00<00:00, 10926.91it/s]\n",
      "  0%|          | 0/750 [00:00<?, ?it/s]"
     ]
    },
    {
     "name": "stdout",
     "output_type": "stream",
     "text": [
      "Load from cache dataset_dicts_cache_test_debug0.pkl\n"
     ]
    },
    {
     "name": "stderr",
     "output_type": "stream",
     "text": [
      "/opt/conda/lib/python3.7/site-packages/detectron2/modeling/roi_heads/fast_rcnn.py:124: UserWarning:\n",
      "\n",
      "This overload of nonzero is deprecated:\n",
      "\tnonzero()\n",
      "Consider using one of the following signatures instead:\n",
      "\tnonzero(*, bool as_tuple) (Triggered internally at  /opt/conda/conda-bld/pytorch_1603729138878/work/torch/csrc/utils/python_arg_parser.cpp:882.)\n",
      "\n",
      "100%|██████████| 750/750 [04:55<00:00,  2.54it/s]\n"
     ]
    },
    {
     "data": {
      "image/png": "[encoded data removed]",
      "text/plain": [
       "<Figure size 432x288 with 1 Axes>"
      ]
     },
     "metadata": {
      "needs_background": "light"
     },
     "output_type": "display_data"
    }
   ],
   "source": [
    "inputdir = Path(\"/kaggle/input\")\n",
    "# traineddir = inputdir / \"vinbigdata-r50fpn3x-512px\"\n",
    "traineddir = inputdir / \"fork-2-vinbigdata-detectron2-train\"\n",
    "\n",
    "# flags = Flags()\n",
    "# flags: Flags = Flags().update(load_yaml(str(traineddir/\"flags.yaml\")))\n",
    "flags: Flags = Flags().update(flags_dict)\n",
    "print(\"flags\", flags)\n",
    "debug = flags.debug\n",
    "# flags_dict = dataclasses.asdict(flags)\n",
    "outdir = Path(flags.outdir)\n",
    "os.makedirs(str(outdir), exist_ok=True)\n",
    "\n",
    "# --- Read data ---\n",
    "datadir = inputdir / \"vinbigdata-chest-xray-abnormalities-detection\"\n",
    "imgdir = inputdir / flags.imgdir_name\n",
    "\n",
    "# Read in the data CSV files\n",
    "# train = pd.read_csv(datadir / \"train.csv\")\n",
    "test_meta = pd.read_csv(inputdir / \"vinbigdata-testmeta\" / \"test_meta.csv\")\n",
    "sample_submission = pd.read_csv(datadir / \"sample_submission.csv\")\n",
    "\n",
    "cfg = get_cfg()\n",
    "original_output_dir = cfg.OUTPUT_DIR\n",
    "cfg.OUTPUT_DIR = str(outdir)\n",
    "print(f\"cfg.OUTPUT_DIR {original_output_dir} -> {cfg.OUTPUT_DIR}\")\n",
    "\n",
    "# cfg.merge_from_file(model_zoo.get_config_file(\"COCO-Detection/faster_rcnn_R_50_FPN_3x.yaml\"))\n",
    "cfg.merge_from_file(model_zoo.get_config_file(\"COCO-Detection/faster_rcnn_R_101_FPN_3x.yaml\"))\n",
    "cfg.DATASETS.TRAIN = (\"vinbigdata_train\",)\n",
    "cfg.DATASETS.TEST = ()\n",
    "# cfg.DATASETS.TEST = (\"vinbigdata_train\",)\n",
    "# cfg.TEST.EVAL_PERIOD = 50\n",
    "cfg.DATALOADER.NUM_WORKERS = 2\n",
    "# Let training initialize from model zoo\n",
    "# cfg.MODEL.WEIGHTS = model_zoo.get_checkpoint_url(\"COCO-Detection/faster_rcnn_R_50_FPN_3x.yaml\")\n",
    "cfg.MODEL.WEIGHTS = model_zoo.get_checkpoint_url(\"COCO-Detection/faster_rcnn_R_101_FPN_3x.yaml\")\n",
    "cfg.SOLVER.IMS_PER_BATCH = 2\n",
    "cfg.SOLVER.BASE_LR = flags.base_lr  # pick a good LR\n",
    "cfg.SOLVER.MAX_ITER = flags.iter\n",
    "cfg.MODEL.ROI_HEADS.BATCH_SIZE_PER_IMAGE = flags.roi_batch_size_per_image\n",
    "cfg.MODEL.ROI_HEADS.NUM_CLASSES = len(thing_classes)\n",
    "# NOTE: this config means the number of classes, but a few popular unofficial tutorials incorrect uses num_classes+1 here.\n",
    "\n",
    "### --- Inference & Evaluation ---\n",
    "# Inference should use the config with parameters that are used in training\n",
    "# cfg now already contains everything we've set previously. We changed it a little bit for inference:\n",
    "# path to the model we just trained\n",
    "# cfg.MODEL.WEIGHTS = os.path.join(cfg.OUTPUT_DIR, \"model_final.pth\")\n",
    "# cfg.MODEL.WEIGHTS = str(traineddir / \"model_final.pth\")\n",
    "cfg.MODEL.WEIGHTS = str(traineddir / \"results/v9/model_0029999.pth\")\n",
    "print(\"Original thresh\", cfg.MODEL.ROI_HEADS.SCORE_THRESH_TEST)  # 0.05\n",
    "cfg.MODEL.ROI_HEADS.SCORE_THRESH_TEST = 0.0   # set a custom testing threshold\n",
    "print(\"Changed  thresh\", cfg.MODEL.ROI_HEADS.SCORE_THRESH_TEST)  # 0.0\n",
    "predictor = DefaultPredictor(cfg)\n",
    "\n",
    "DatasetCatalog.register(\n",
    "    \"vinbigdata_test\", lambda: get_vinbigdata_dicts_test(imgdir, test_meta, debug=debug)\n",
    ")\n",
    "MetadataCatalog.get(\"vinbigdata_test\").set(thing_classes=thing_classes)\n",
    "metadata = MetadataCatalog.get(\"vinbigdata_test\")\n",
    "dataset_dicts = get_vinbigdata_dicts_test(imgdir, test_meta, debug=debug)\n",
    "\n",
    "if debug:\n",
    "    dataset_dicts = dataset_dicts[:100]\n",
    "\n",
    "results_list = []\n",
    "index = 0\n",
    "batch_size = 4\n",
    "\n",
    "for i in tqdm(range(ceil(len(dataset_dicts) / batch_size))):\n",
    "    inds = list(range(batch_size * i, min(batch_size * (i + 1), len(dataset_dicts))))\n",
    "    dataset_dicts_batch = [dataset_dicts[i] for i in inds]\n",
    "    im_list = [cv2.imread(d[\"file_name\"]) for d in dataset_dicts_batch]\n",
    "    outputs_list = predict_batch(predictor, im_list)\n",
    "\n",
    "    for im, outputs, d in zip(im_list, outputs_list, dataset_dicts_batch):\n",
    "        resized_height, resized_width, ch = im.shape\n",
    "        # outputs = predictor(im)\n",
    "        if index < 5:\n",
    "            # format is documented at https://detectron2.readthedocs.io/tutorials/models.html#model-output-format\n",
    "            v = Visualizer(\n",
    "                im[:, :, ::-1],\n",
    "                metadata=metadata,\n",
    "                scale=0.5,\n",
    "                instance_mode=ColorMode.IMAGE_BW\n",
    "                # remove the colors of unsegmented pixels. This option is only available for segmentation models\n",
    "            )\n",
    "            out = v.draw_instance_predictions(outputs[\"instances\"].to(\"cpu\"))\n",
    "            cv2.imwrite(str(outdir / f\"pred_{index}.jpg\"), out.get_image()[:, :, ::-1])\n",
    "            plt.title(f\"index {index}\")\n",
    "            plt.imshow(out.get_image()[:, :, ::-1])\n",
    "\n",
    "        assert d[\"image_id\"] == index\n",
    "        image_id, dim0, dim1 = test_meta.iloc[index].values\n",
    "\n",
    "        instances = outputs[\"instances\"]\n",
    "        if len(instances) == 0:\n",
    "            # No finding, let's set 14 0 0 0 0.\n",
    "            result = {\"image_id\": image_id, \"PredictionString\": \"14 1.0 0 0 1 1\"}\n",
    "        else:\n",
    "            # Find some bbox...\n",
    "            # print(f\"index={index}, find {len(instances)} bbox.\")\n",
    "            fields: Dict[str, Any] = instances.get_fields()\n",
    "            pred_classes = fields[\"pred_classes\"]  # (n_boxes,)\n",
    "            pred_scores = fields[\"scores\"]\n",
    "            # shape (n_boxes, 4). (xmin, ymin, xmax, ymax)\n",
    "            pred_boxes = fields[\"pred_boxes\"].tensor\n",
    "\n",
    "            h_ratio = dim0 / resized_height\n",
    "            w_ratio = dim1 / resized_width\n",
    "            pred_boxes[:, [0, 2]] *= w_ratio\n",
    "            pred_boxes[:, [1, 3]] *= h_ratio\n",
    "\n",
    "            pred_classes_array = pred_classes.cpu().numpy()\n",
    "            pred_boxes_array = pred_boxes.cpu().numpy()\n",
    "            pred_scores_array = pred_scores.cpu().numpy()\n",
    "\n",
    "            result = {\n",
    "                \"image_id\": image_id,\n",
    "                \"PredictionString\": format_pred(\n",
    "                    pred_classes_array, pred_boxes_array, pred_scores_array\n",
    "                ),\n",
    "            }\n",
    "        results_list.append(result)\n",
    "        index += 1"
   ]
  },
  {
   "cell_type": "markdown",
   "metadata": {
    "papermill": {
     "duration": 0.244621,
     "end_time": "2021-01-30T16:50:58.754491",
     "exception": false,
     "start_time": "2021-01-30T16:50:58.509870",
     "status": "completed"
    },
    "tags": []
   },
   "source": [
    "Here I set `cfg.MODEL.ROI_HEADS.SCORE_THRESH_TEST = 0.0` to produce **all the detection box prediction even if confidence score is very low**.<br/>\n",
    "Actually it affects a lot to score, since competition metric is AP (Average-Precision) which is calculated using the boxes with confidence score = 0~100%."
   ]
  },
  {
   "cell_type": "code",
   "execution_count": 13,
   "metadata": {
    "execution": {
     "iopub.execute_input": "2021-01-30T16:50:59.253894Z",
     "iopub.status.busy": "2021-01-30T16:50:59.253233Z",
     "iopub.status.idle": "2021-01-30T16:50:59.889266Z",
     "shell.execute_reply": "2021-01-30T16:50:59.888791Z"
    },
    "papermill": {
     "duration": 0.884868,
     "end_time": "2021-01-30T16:50:59.889379",
     "exception": false,
     "start_time": "2021-01-30T16:50:59.004511",
     "status": "completed"
    },
    "tags": []
   },
   "outputs": [
    {
     "data": {
      "text/html": [
       "<div>\n",
       "<style scoped>\n",
       "    .dataframe tbody tr th:only-of-type {\n",
       "        vertical-align: middle;\n",
       "    }\n",
       "\n",
       "    .dataframe tbody tr th {\n",
       "        vertical-align: top;\n",
       "    }\n",
       "\n",
       "    .dataframe thead th {\n",
       "        text-align: right;\n",
       "    }\n",
       "</style>\n",
       "<table border=\"1\" class=\"dataframe\">\n",
       "  <thead>\n",
       "    <tr style=\"text-align: right;\">\n",
       "      <th></th>\n",
       "      <th>image_id</th>\n",
       "      <th>PredictionString</th>\n",
       "    </tr>\n",
       "  </thead>\n",
       "  <tbody>\n",
       "    <tr>\n",
       "      <th>0</th>\n",
       "      <td>8dec5497ecc246766acfba5a4be4e619</td>\n",
       "      <td>0 0.8438339233398438 1043 603 1247 873 3 0.605...</td>\n",
       "    </tr>\n",
       "    <tr>\n",
       "      <th>1</th>\n",
       "      <td>287422bed1d9d153387361889619abed</td>\n",
       "      <td>3 0.9829716086387634 635 970 1885 1978 0 0.736...</td>\n",
       "    </tr>\n",
       "    <tr>\n",
       "      <th>2</th>\n",
       "      <td>1d12b94b7acbeadef7d7700b50aa90d4</td>\n",
       "      <td>3 0.9114925265312195 822 1545 1927 2112 0 0.59...</td>\n",
       "    </tr>\n",
       "    <tr>\n",
       "      <th>3</th>\n",
       "      <td>6b872791e23742f6c33a08fc24f77365</td>\n",
       "      <td>9 0.3895277678966522 1556 1986 1864 2297 11 0....</td>\n",
       "    </tr>\n",
       "    <tr>\n",
       "      <th>4</th>\n",
       "      <td>d0d2addff91ad7beb1d92126ff74d621</td>\n",
       "      <td>0 0.887931227684021 1419 820 1704 1191 3 0.698...</td>\n",
       "    </tr>\n",
       "    <tr>\n",
       "      <th>...</th>\n",
       "      <td>...</td>\n",
       "      <td>...</td>\n",
       "    </tr>\n",
       "    <tr>\n",
       "      <th>2995</th>\n",
       "      <td>78b44b96b121d6075d7ae27135278e03</td>\n",
       "      <td>0 0.45998385548591614 1040 765 1216 959 11 0.2...</td>\n",
       "    </tr>\n",
       "    <tr>\n",
       "      <th>2996</th>\n",
       "      <td>afee8ff90f29b8827d0eb78774d25324</td>\n",
       "      <td>0 0.6509377360343933 1048 716 1242 957 3 0.186...</td>\n",
       "    </tr>\n",
       "    <tr>\n",
       "      <th>2997</th>\n",
       "      <td>6e07fab2014be723250f7897ab6e3df2</td>\n",
       "      <td>0 0.9841672778129578 1665 787 2002 1158 3 0.94...</td>\n",
       "    </tr>\n",
       "    <tr>\n",
       "      <th>2998</th>\n",
       "      <td>690bb572300ef08bbbb7ebf4196099cf</td>\n",
       "      <td>9 0.40054580569267273 819 867 1460 2074 9 0.34...</td>\n",
       "    </tr>\n",
       "    <tr>\n",
       "      <th>2999</th>\n",
       "      <td>0a08191a658edb1327e7282045ec71cf</td>\n",
       "      <td>12 0.664172351360321 482 340 1018 707 12 0.357...</td>\n",
       "    </tr>\n",
       "  </tbody>\n",
       "</table>\n",
       "<p>3000 rows × 2 columns</p>\n",
       "</div>"
      ],
      "text/plain": [
       "                              image_id  \\\n",
       "0     8dec5497ecc246766acfba5a4be4e619   \n",
       "1     287422bed1d9d153387361889619abed   \n",
       "2     1d12b94b7acbeadef7d7700b50aa90d4   \n",
       "3     6b872791e23742f6c33a08fc24f77365   \n",
       "4     d0d2addff91ad7beb1d92126ff74d621   \n",
       "...                                ...   \n",
       "2995  78b44b96b121d6075d7ae27135278e03   \n",
       "2996  afee8ff90f29b8827d0eb78774d25324   \n",
       "2997  6e07fab2014be723250f7897ab6e3df2   \n",
       "2998  690bb572300ef08bbbb7ebf4196099cf   \n",
       "2999  0a08191a658edb1327e7282045ec71cf   \n",
       "\n",
       "                                       PredictionString  \n",
       "0     0 0.8438339233398438 1043 603 1247 873 3 0.605...  \n",
       "1     3 0.9829716086387634 635 970 1885 1978 0 0.736...  \n",
       "2     3 0.9114925265312195 822 1545 1927 2112 0 0.59...  \n",
       "3     9 0.3895277678966522 1556 1986 1864 2297 11 0....  \n",
       "4     0 0.887931227684021 1419 820 1704 1191 3 0.698...  \n",
       "...                                                 ...  \n",
       "2995  0 0.45998385548591614 1040 765 1216 959 11 0.2...  \n",
       "2996  0 0.6509377360343933 1048 716 1242 957 3 0.186...  \n",
       "2997  0 0.9841672778129578 1665 787 2002 1158 3 0.94...  \n",
       "2998  9 0.40054580569267273 819 867 1460 2074 9 0.34...  \n",
       "2999  12 0.664172351360321 482 340 1018 707 12 0.357...  \n",
       "\n",
       "[3000 rows x 2 columns]"
      ]
     },
     "execution_count": 13,
     "metadata": {},
     "output_type": "execute_result"
    }
   ],
   "source": [
    "# This submission includes only detection model's predictions\n",
    "submission_det = pd.DataFrame(results_list, columns=['image_id', 'PredictionString'])\n",
    "submission_det.to_csv(outdir/\"submission_det.csv\", index=False)\n",
    "submission_det"
   ]
  },
  {
   "cell_type": "markdown",
   "metadata": {
    "papermill": {
     "duration": 0.241876,
     "end_time": "2021-01-30T16:51:00.372967",
     "exception": false,
     "start_time": "2021-01-30T16:51:00.131091",
     "status": "completed"
    },
    "tags": []
   },
   "source": [
    "<a id=\"2class\"></a>\n",
    "# Apply 2 class filter\n",
    "\n",
    "As mentioned in [VinBigData 🌟2 Class Filter🌟](https://www.kaggle.com/awsaf49/vinbigdata-2-class-filter) by @awsaf49, applying 2-class filter improves LB score significantly. (Please upvote his kernel as well!)<br/>\n",
    "Also, it is mentioned that we can submit **14 prob 1 1 0 0** where the `prob` is the normal probability in the discussion [[Scoring bug] Improve your LB score by 0.053, just adding \"14 1 0 0 1 1\"](https://www.kaggle.com/c/vinbigdata-chest-xray-abnormalities-detection/discussion/211971)!\n",
    "\n",
    "Here, I will propose new post processing (similar to [this](https://www.kaggle.com/c/vinbigdata-chest-xray-abnormalities-detection/discussion/211971#1157809) by @pestipeti):\n",
    "\n",
    "Here `p` is the **normal probability**.\n",
    "\n",
    "1. `p < low_threshold`                   -> Do nothing, Keep det prediction.\n",
    "2. `low_threshold <= p < high_threshold` -> Just \"Add\" Normal prediction, **keep** detection prediction.\n",
    "3. `high_threshold <= p`                 -> Replace with Normal prediction with normal score 1.0, **remove** all detection predictoin.\n",
    "\n",
    "\n",
    "[Note] I also wrote another kernel to train 2-class model: [📸VinBigData 2-class classifier complete pipeline](https://www.kaggle.com/corochann/vinbigdata-2-class-classifier-complete-pipeline) to train these 2-class classifier model!"
   ]
  },
  {
   "cell_type": "code",
   "execution_count": 14,
   "metadata": {
    "execution": {
     "iopub.execute_input": "2021-01-30T16:51:00.874770Z",
     "iopub.status.busy": "2021-01-30T16:51:00.874172Z",
     "iopub.status.idle": "2021-01-30T16:51:00.899444Z",
     "shell.execute_reply": "2021-01-30T16:51:00.899828Z"
    },
    "papermill": {
     "duration": 0.285294,
     "end_time": "2021-01-30T16:51:00.899943",
     "exception": false,
     "start_time": "2021-01-30T16:51:00.614649",
     "status": "completed"
    },
    "tags": []
   },
   "outputs": [
    {
     "data": {
      "text/html": [
       "<div>\n",
       "<style scoped>\n",
       "    .dataframe tbody tr th:only-of-type {\n",
       "        vertical-align: middle;\n",
       "    }\n",
       "\n",
       "    .dataframe tbody tr th {\n",
       "        vertical-align: top;\n",
       "    }\n",
       "\n",
       "    .dataframe thead th {\n",
       "        text-align: right;\n",
       "    }\n",
       "</style>\n",
       "<table border=\"1\" class=\"dataframe\">\n",
       "  <thead>\n",
       "    <tr style=\"text-align: right;\">\n",
       "      <th></th>\n",
       "      <th>image_id</th>\n",
       "      <th>target</th>\n",
       "    </tr>\n",
       "  </thead>\n",
       "  <tbody>\n",
       "    <tr>\n",
       "      <th>0</th>\n",
       "      <td>002a34c58c5b758217ed1f584ccbcfe9</td>\n",
       "      <td>0.013326</td>\n",
       "    </tr>\n",
       "    <tr>\n",
       "      <th>1</th>\n",
       "      <td>004f33259ee4aef671c2b95d54e4be68</td>\n",
       "      <td>0.037235</td>\n",
       "    </tr>\n",
       "    <tr>\n",
       "      <th>2</th>\n",
       "      <td>008bdde2af2462e86fd373a445d0f4cd</td>\n",
       "      <td>0.939700</td>\n",
       "    </tr>\n",
       "    <tr>\n",
       "      <th>3</th>\n",
       "      <td>009bc039326338823ca3aa84381f17f1</td>\n",
       "      <td>0.123799</td>\n",
       "    </tr>\n",
       "    <tr>\n",
       "      <th>4</th>\n",
       "      <td>00a2145de1886cb9eb88869c85d74080</td>\n",
       "      <td>0.654006</td>\n",
       "    </tr>\n",
       "    <tr>\n",
       "      <th>...</th>\n",
       "      <td>...</td>\n",
       "      <td>...</td>\n",
       "    </tr>\n",
       "    <tr>\n",
       "      <th>2995</th>\n",
       "      <td>ff91fb82429a27521bbec8569b041f02</td>\n",
       "      <td>0.936325</td>\n",
       "    </tr>\n",
       "    <tr>\n",
       "      <th>2996</th>\n",
       "      <td>ff9fcc4087ed5e941209aa3fa948e364</td>\n",
       "      <td>0.963583</td>\n",
       "    </tr>\n",
       "    <tr>\n",
       "      <th>2997</th>\n",
       "      <td>ffaa288c8abca300974f043b57d81521</td>\n",
       "      <td>0.178720</td>\n",
       "    </tr>\n",
       "    <tr>\n",
       "      <th>2998</th>\n",
       "      <td>ffc441e0c8b7153844047483a577e7c3</td>\n",
       "      <td>0.225196</td>\n",
       "    </tr>\n",
       "    <tr>\n",
       "      <th>2999</th>\n",
       "      <td>ffccf1709d0081d122a1d1f9edbefdf1</td>\n",
       "      <td>0.987406</td>\n",
       "    </tr>\n",
       "  </tbody>\n",
       "</table>\n",
       "<p>3000 rows × 2 columns</p>\n",
       "</div>"
      ],
      "text/plain": [
       "                              image_id    target\n",
       "0     002a34c58c5b758217ed1f584ccbcfe9  0.013326\n",
       "1     004f33259ee4aef671c2b95d54e4be68  0.037235\n",
       "2     008bdde2af2462e86fd373a445d0f4cd  0.939700\n",
       "3     009bc039326338823ca3aa84381f17f1  0.123799\n",
       "4     00a2145de1886cb9eb88869c85d74080  0.654006\n",
       "...                                ...       ...\n",
       "2995  ff91fb82429a27521bbec8569b041f02  0.936325\n",
       "2996  ff9fcc4087ed5e941209aa3fa948e364  0.963583\n",
       "2997  ffaa288c8abca300974f043b57d81521  0.178720\n",
       "2998  ffc441e0c8b7153844047483a577e7c3  0.225196\n",
       "2999  ffccf1709d0081d122a1d1f9edbefdf1  0.987406\n",
       "\n",
       "[3000 rows x 2 columns]"
      ]
     },
     "execution_count": 14,
     "metadata": {},
     "output_type": "execute_result"
    }
   ],
   "source": [
    "pred_2class = pd.read_csv(inputdir/\"vinbigdata-2class-prediction/2-cls test pred.csv\")\n",
    "pred_2class"
   ]
  },
  {
   "cell_type": "code",
   "execution_count": 15,
   "metadata": {
    "execution": {
     "iopub.execute_input": "2021-01-30T16:51:01.403595Z",
     "iopub.status.busy": "2021-01-30T16:51:01.402675Z",
     "iopub.status.idle": "2021-01-30T16:51:03.023959Z",
     "shell.execute_reply": "2021-01-30T16:51:03.025046Z"
    },
    "papermill": {
     "duration": 1.883699,
     "end_time": "2021-01-30T16:51:03.025219",
     "exception": false,
     "start_time": "2021-01-30T16:51:01.141520",
     "status": "completed"
    },
    "tags": []
   },
   "outputs": [
    {
     "name": "stdout",
     "output_type": "stream",
     "text": [
      "n_normal: 0 -> 1700 with threshold 0.0 & 0.95\n",
      "Keep 0 Add 1300 Replace 1700\n",
      "Saved to results/submission.csv\n"
     ]
    }
   ],
   "source": [
    "NORMAL = \"14 1 0 0 1 1\"\n",
    "low_threshold = 0.0\n",
    "high_threshold = 0.95\n",
    "\n",
    "pred_det_df = submission_det  # You can load from another submission.csv here too.\n",
    "n_normal_before = len(pred_det_df.query(\"PredictionString == @NORMAL\"))\n",
    "merged_df = pd.merge(pred_det_df, pred_2class, on=\"image_id\", how=\"left\")\n",
    "\n",
    "# 1. p < low_threshold                   -> \"Keep\": Do nothing, Keep det prediction.\n",
    "# 2. low_threshold <= p < high_threshold -> \"Add\": Just \"Add\" Normal prediction\n",
    "# 3. high_threshold <= p                 -> \"Replace\": Replace with Normal prediction\n",
    "\n",
    "if \"target\" in merged_df.columns:\n",
    "    merged_df[\"class0\"] = 1 - merged_df[\"target\"]\n",
    "\n",
    "c0, c1, c2 = 0, 0, 0\n",
    "for i in range(len(merged_df)):\n",
    "    p0 = merged_df.loc[i, \"class0\"]\n",
    "    if p0 < low_threshold:\n",
    "        # Keep, do nothing.\n",
    "        c0 += 1\n",
    "    elif low_threshold <= p0 and p0 < high_threshold:\n",
    "        # Add, keep \"det\" preds and add normal pred.\n",
    "        merged_df.loc[i, \"PredictionString\"] += f\" 14 {p0} 0 0 1 1\"\n",
    "        c1 += 1\n",
    "    else:\n",
    "        # Replace, remove all \"det\" preds.\n",
    "        merged_df.loc[i, \"PredictionString\"] = NORMAL\n",
    "        c2 += 1\n",
    "\n",
    "n_normal_after = len(merged_df.query(\"PredictionString == @NORMAL\"))\n",
    "print(\n",
    "    f\"n_normal: {n_normal_before} -> {n_normal_after} with threshold {low_threshold} & {high_threshold}\"\n",
    ")\n",
    "print(f\"Keep {c0} Add {c1} Replace {c2}\")\n",
    "submission_filepath = str(outdir / \"submission.csv\")\n",
    "submission_df = merged_df[[\"image_id\", \"PredictionString\"]]\n",
    "submission_df.to_csv(submission_filepath, index=False)\n",
    "print(f\"Saved to {submission_filepath}\")"
   ]
  },
  {
   "cell_type": "markdown",
   "metadata": {
    "papermill": {
     "duration": 0.241654,
     "end_time": "2021-01-30T16:51:03.591844",
     "exception": false,
     "start_time": "2021-01-30T16:51:03.350190",
     "status": "completed"
    },
    "tags": []
   },
   "source": [
    "In my experiment:\n",
    " - The baseline submission: score 0.141\n",
    " - Just replace by threshold ([version3](https://www.kaggle.com/corochann/vinbigdata-detectron2-prediction?scriptVersionId=52412540) ): score 0.206\n",
    " - This post process (combine replace & add): **0.221**\n",
    "\n",
    "So the score improved by about **0.8, which is significant**!\n",
    "\n",
    "In more detail, I tried to change several `low_threshold` value and lower `low_threshold` achieved better results. So it may be okay to set `low_threshold=0.0` which means **always add \"No finding\" prediction with the predicted probability.**<br/>\n",
    "I also noticed that setting `high_threshold` value less than 1 is important, which means we have a benefit to **remove abnormality predictions** for the images which is highly likely to be normal.<br/>\n",
    "This may be because my [training kernel](https://www.kaggle.com/corochann/vinbigdata-detectron2-train) currently only uses abnormal image during training and model tend to produce more abnormal boxes. I'm now thinking that it's better to include normal images for training to learn where there is **no** abnormality.<br/>\n",
    "Also, I think it's nice to try **including \"No finding\" class during detection training** (by adding virtual \"No finding\" boxes, or by adding global classifier together with the detection).\n",
    "\n",
    "\n",
    "That's all!\n",
    "Object deteaction is rather complicated task among deep learning tasks, but it's easy to train SoTA models & predict using `detectron2`!!!\n",
    "\n",
    "<h3 style=\"color:red\">If this kernel helps you, please upvote to keep me motivated 😁<br>Thanks!</h3>"
   ]
  },
  {
   "cell_type": "markdown",
   "metadata": {
    "papermill": {
     "duration": 0.243246,
     "end_time": "2021-01-30T16:51:04.080585",
     "exception": false,
     "start_time": "2021-01-30T16:51:03.837339",
     "status": "completed"
    },
    "tags": []
   },
   "source": [
    "<a id=\"ref\"></a>\n",
    "# Other kernels\n",
    "\n",
    "[📸VinBigData detectron2 train](https://www.kaggle.com/corochann/vinbigdata-detectron2-train) kernel explains how to run object detection training, using `detectron2` library.\n",
    "\n",
    "[📸VinBigData 2-class classifier complete pipeline](https://www.kaggle.com/corochann/vinbigdata-2-class-classifier-complete-pipeline) kernel explains how to train 2 class classifier model for the prediction and submisssion for this competition."
   ]
  },
  {
   "cell_type": "code",
   "execution_count": null,
   "metadata": {
    "papermill": {
     "duration": 0.241876,
     "end_time": "2021-01-30T16:51:04.564371",
     "exception": false,
     "start_time": "2021-01-30T16:51:04.322495",
     "status": "completed"
    },
    "tags": []
   },
   "outputs": [],
   "source": []
  }
 ],
 "metadata": {
  "kernelspec": {
   "display_name": "Python 3",
   "language": "python",
   "name": "python3"
  },
  "language_info": {
   "codemirror_mode": {
    "name": "ipython",
    "version": 3
   },
   "file_extension": ".py",
   "mimetype": "text/x-python",
   "name": "python",
   "nbconvert_exporter": "python",
   "pygments_lexer": "ipython3",
   "version": "3.7.6"
  },
  "papermill": {
   "duration": 353.82492,
   "end_time": "2021-01-30T16:51:05.820287",
   "environment_variables": {},
   "exception": null,
   "input_path": "__notebook__.ipynb",
   "output_path": "__notebook__.ipynb",
   "parameters": {},
   "start_time": "2021-01-30T16:45:11.995367",
   "version": "2.1.0"
  }
 },
 "nbformat": 4,
 "nbformat_minor": 4
}
