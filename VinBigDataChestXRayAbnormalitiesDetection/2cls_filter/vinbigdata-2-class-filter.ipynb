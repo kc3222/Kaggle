{
 "cells": [
  {
   "cell_type": "markdown",
   "metadata": {
    "papermill": {
     "duration": 0.015821,
     "end_time": "2021-03-30T19:05:34.423719",
     "exception": false,
     "start_time": "2021-03-30T19:05:34.407898",
     "status": "completed"
    },
    "tags": []
   },
   "source": [
    "# 🌟2 Class Filter🌟\n",
    "Previously I have trained `YOLOv5` using `14` class data. As it creates `FP` we can tackle that just simply using a `2 class filter`. Here I'll be using 2 class model (`AUC`:`0.98`) prediction to filter out the `FP` predictions. I used `EfficientNetB6` to generate these predictions.\n",
    "It should increase the score as `FP` would be reduced significantly\n",
    "* [14 class train](https://www.kaggle.com/awsaf49/vinbigdata-cxr-ad-yolov5-14-class-train)\n",
    "* [14 class infer](https://www.kaggle.com/awsaf49/vinbigdata-cxr-ad-yolov5-14-class-infer)"
   ]
  },
  {
   "cell_type": "markdown",
   "metadata": {
    "papermill": {
     "duration": 0.012159,
     "end_time": "2021-03-30T19:05:34.448594",
     "exception": false,
     "start_time": "2021-03-30T19:05:34.436435",
     "status": "completed"
    },
    "tags": []
   },
   "source": [
    "# Version\n",
    "\n",
    "* `v48`: yolov5x_fold4_finetune768\n",
    "* `v47`: yolov5x_fold3_finetune768\n",
    "* `v46`: yolov5x_fold2_finetune768\n",
    "* `v45`: yolov5x_fold1_finetune768\n",
    "* `v44`: yolov5x_fold0_finetune768\n",
    "* `v43`: vfnet_r101_fold4_v3_epoch18\n",
    "* `v42`: vfnet_r101_fold3_v1_epoch25\n",
    "* `v41`: vfnet_r101_fold2_v4_epoch18\n",
    "* `v40`: vfnet_r101_fold1_v4_epoch18\n",
    "* `v39`: vfnet_r101_fold0_v3_epoch4\n",
    "* `v38`: vfnet_r101_8020_v1_epoch18\n",
    "* Threshold 0.07\n",
    "* `v36`: cascade_rcnn_x101_fold0_v1_epoch16\n",
    "* `v34`: vfnet_r101_fold1_v4_epoch18\n",
    "* `v33`: vfnet_r101_fold2_v4_epoch18\n",
    "* `v32`: vfnet_r101_fold4_v3_epoch18\n",
    "* `v31`: vfnet_r101_fold0_v3_epoch4\n",
    "* `v30`: vfnet_r101_fold3_v1_epoch25\n",
    "* `v29`: vfnet_r101_8020_v1_epoch18\n",
    "* `v28`: vfnet_r101_fold1_v1_epoch24 conf_0.0\n",
    "* `v27`: vfnet_r101_fold0_v2_epoch4 conf_0.0\n",
    "* `v26`: vfnet_r101_v2 conf_0.0\n",
    "* `v25`: yolov5x_fold4_finetune_768_tta conf_0.01\n",
    "* `v24`: yolov5x_fold3_finetune_768_tta conf_0.01\n",
    "* `v23`: yolov5x_fold2_finetune_768_tta conf_0.01\n",
    "* `v22`: yolov5x_fold1_finetune_768_tta conf_0.01\n",
    "* `v21`: yolov5x_fold0_finetune_768_tta conf_0.01\n",
    "* `v20`: yolov5x_v4.0_fold4_finetune_512_tta conf_0.1\n",
    "* `v19`: yolov5x_v4.0_fold2_finetune_512_tta conf_0.01\n",
    "* `v18`: yolov5x_v4.0_fold1_finetune_512_tta conf_0.01\n",
    "* `v17`: yolov5x_v4.0_fold4_finetune_512_tta conf_0.01\n",
    "* `v16`: yolov5x_v4.0_fold0_finetune_512_tta conf_0.01\n",
    "* `v15`: ori yolov5x_fold2 conf_0.01\n",
    "* `v14`: ori yolov5x_fold1 conf_0.01\n",
    "* `v13`: ori yolov5x_fold4 conf_0.01"
   ]
  },
  {
   "cell_type": "markdown",
   "metadata": {
    "papermill": {
     "duration": 0.012131,
     "end_time": "2021-03-30T19:05:34.473212",
     "exception": false,
     "start_time": "2021-03-30T19:05:34.461081",
     "status": "completed"
    },
    "tags": []
   },
   "source": [
    "# Loading Package"
   ]
  },
  {
   "cell_type": "code",
   "execution_count": 1,
   "metadata": {
    "_cell_guid": "b1076dfc-b9ad-4769-8c92-a6c4dae69d19",
    "_uuid": "8f2839f25d086af736a60e9eeb907d3b93b6e0e5",
    "execution": {
     "iopub.execute_input": "2021-03-30T19:05:34.503760Z",
     "iopub.status.busy": "2021-03-30T19:05:34.503037Z",
     "iopub.status.idle": "2021-03-30T19:05:34.506222Z",
     "shell.execute_reply": "2021-03-30T19:05:34.505548Z"
    },
    "papermill": {
     "duration": 0.020638,
     "end_time": "2021-03-30T19:05:34.506342",
     "exception": false,
     "start_time": "2021-03-30T19:05:34.485704",
     "status": "completed"
    },
    "tags": []
   },
   "outputs": [],
   "source": [
    "import pandas as pd\n",
    "import numpy as np\n",
    "from glob import glob\n",
    "import shutil"
   ]
  },
  {
   "cell_type": "markdown",
   "metadata": {
    "papermill": {
     "duration": 0.012715,
     "end_time": "2021-03-30T19:05:34.531928",
     "exception": false,
     "start_time": "2021-03-30T19:05:34.519213",
     "status": "completed"
    },
    "tags": []
   },
   "source": [
    "# Threshold For `2 Class Filter`\n",
    "**NB**: The threshold was chosen arbitarily"
   ]
  },
  {
   "cell_type": "code",
   "execution_count": 2,
   "metadata": {
    "execution": {
     "iopub.execute_input": "2021-03-30T19:05:34.563042Z",
     "iopub.status.busy": "2021-03-30T19:05:34.562032Z",
     "iopub.status.idle": "2021-03-30T19:05:34.565456Z",
     "shell.execute_reply": "2021-03-30T19:05:34.564839Z"
    },
    "papermill": {
     "duration": 0.020681,
     "end_time": "2021-03-30T19:05:34.565580",
     "exception": false,
     "start_time": "2021-03-30T19:05:34.544899",
     "status": "completed"
    },
    "tags": []
   },
   "outputs": [],
   "source": [
    "thr = 0.07"
   ]
  },
  {
   "cell_type": "markdown",
   "metadata": {
    "papermill": {
     "duration": 0.012729,
     "end_time": "2021-03-30T19:05:34.591133",
     "exception": false,
     "start_time": "2021-03-30T19:05:34.578404",
     "status": "completed"
    },
    "tags": []
   },
   "source": [
    "# Loading csv"
   ]
  },
  {
   "cell_type": "code",
   "execution_count": 3,
   "metadata": {
    "_cell_guid": "79c7e3d0-c299-4dcb-8224-4455121ee9b0",
    "_uuid": "d629ff2d2480ee46fbb7e2d37f6b5fab8052498a",
    "execution": {
     "iopub.execute_input": "2021-03-30T19:05:34.629142Z",
     "iopub.status.busy": "2021-03-30T19:05:34.628458Z",
     "iopub.status.idle": "2021-03-30T19:05:34.707485Z",
     "shell.execute_reply": "2021-03-30T19:05:34.706738Z"
    },
    "papermill": {
     "duration": 0.103171,
     "end_time": "2021-03-30T19:05:34.707629",
     "exception": false,
     "start_time": "2021-03-30T19:05:34.604458",
     "status": "completed"
    },
    "tags": []
   },
   "outputs": [],
   "source": [
    "# yolov5x_fold4_finetune768\n",
    "# pred_14cls = pd.read_csv('../input/fork2-vinbigdata-cxr-ad-yolov5-v4-0-infer/submission.csv')\n",
    "pred_14cls = pd.read_csv('../input/vinbigdata-final-models-infer/yolov5x_fold4_finetune768_submission.csv')\n",
    "pred_2cls = pd.read_csv('../input/vinbigdata-2class-prediction/2-cls test pred.csv')"
   ]
  },
  {
   "cell_type": "code",
   "execution_count": 4,
   "metadata": {
    "execution": {
     "iopub.execute_input": "2021-03-30T19:05:34.751483Z",
     "iopub.status.busy": "2021-03-30T19:05:34.750823Z",
     "iopub.status.idle": "2021-03-30T19:05:34.759775Z",
     "shell.execute_reply": "2021-03-30T19:05:34.760283Z"
    },
    "papermill": {
     "duration": 0.037107,
     "end_time": "2021-03-30T19:05:34.760413",
     "exception": false,
     "start_time": "2021-03-30T19:05:34.723306",
     "status": "completed"
    },
    "tags": []
   },
   "outputs": [
    {
     "data": {
      "text/html": [
       "<div>\n",
       "<style scoped>\n",
       "    .dataframe tbody tr th:only-of-type {\n",
       "        vertical-align: middle;\n",
       "    }\n",
       "\n",
       "    .dataframe tbody tr th {\n",
       "        vertical-align: top;\n",
       "    }\n",
       "\n",
       "    .dataframe thead th {\n",
       "        text-align: right;\n",
       "    }\n",
       "</style>\n",
       "<table border=\"1\" class=\"dataframe\">\n",
       "  <thead>\n",
       "    <tr style=\"text-align: right;\">\n",
       "      <th></th>\n",
       "      <th>image_id</th>\n",
       "      <th>PredictionString</th>\n",
       "    </tr>\n",
       "  </thead>\n",
       "  <tbody>\n",
       "    <tr>\n",
       "      <th>0</th>\n",
       "      <td>83caa8a85e03606cf57e49147d7ac569</td>\n",
       "      <td>11 0.013 1208 453 1474 534 13 0.018 513 1080 7...</td>\n",
       "    </tr>\n",
       "    <tr>\n",
       "      <th>1</th>\n",
       "      <td>7550347fa2bb96c2354a3716dfa3a69c</td>\n",
       "      <td>13 0.011 1956 1124 2084 1194 5 0.012 332 1898 ...</td>\n",
       "    </tr>\n",
       "    <tr>\n",
       "      <th>2</th>\n",
       "      <td>74b23792db329cff5843e36efb8aa65a</td>\n",
       "      <td>11 0.012 2314 2398 2420 2565 10 0.012 2314 239...</td>\n",
       "    </tr>\n",
       "    <tr>\n",
       "      <th>3</th>\n",
       "      <td>94568a546be103177cb582d3e91cd2d8</td>\n",
       "      <td>11 0.011 732 721 921 793 11 0.011 678 679 886 ...</td>\n",
       "    </tr>\n",
       "    <tr>\n",
       "      <th>4</th>\n",
       "      <td>6da36354fc904b63bc03eb3884e0c35c</td>\n",
       "      <td>11 0.01 1323 325 1484 399 13 0.011 1492 838 17...</td>\n",
       "    </tr>\n",
       "  </tbody>\n",
       "</table>\n",
       "</div>"
      ],
      "text/plain": [
       "                           image_id  \\\n",
       "0  83caa8a85e03606cf57e49147d7ac569   \n",
       "1  7550347fa2bb96c2354a3716dfa3a69c   \n",
       "2  74b23792db329cff5843e36efb8aa65a   \n",
       "3  94568a546be103177cb582d3e91cd2d8   \n",
       "4  6da36354fc904b63bc03eb3884e0c35c   \n",
       "\n",
       "                                    PredictionString  \n",
       "0  11 0.013 1208 453 1474 534 13 0.018 513 1080 7...  \n",
       "1  13 0.011 1956 1124 2084 1194 5 0.012 332 1898 ...  \n",
       "2  11 0.012 2314 2398 2420 2565 10 0.012 2314 239...  \n",
       "3  11 0.011 732 721 921 793 11 0.011 678 679 886 ...  \n",
       "4  11 0.01 1323 325 1484 399 13 0.011 1492 838 17...  "
      ]
     },
     "execution_count": 4,
     "metadata": {},
     "output_type": "execute_result"
    }
   ],
   "source": [
    "pred_14cls.head()"
   ]
  },
  {
   "cell_type": "code",
   "execution_count": 5,
   "metadata": {
    "execution": {
     "iopub.execute_input": "2021-03-30T19:05:34.796855Z",
     "iopub.status.busy": "2021-03-30T19:05:34.796170Z",
     "iopub.status.idle": "2021-03-30T19:05:34.799664Z",
     "shell.execute_reply": "2021-03-30T19:05:34.799138Z"
    },
    "papermill": {
     "duration": 0.025772,
     "end_time": "2021-03-30T19:05:34.799786",
     "exception": false,
     "start_time": "2021-03-30T19:05:34.774014",
     "status": "completed"
    },
    "tags": []
   },
   "outputs": [
    {
     "data": {
      "text/html": [
       "<div>\n",
       "<style scoped>\n",
       "    .dataframe tbody tr th:only-of-type {\n",
       "        vertical-align: middle;\n",
       "    }\n",
       "\n",
       "    .dataframe tbody tr th {\n",
       "        vertical-align: top;\n",
       "    }\n",
       "\n",
       "    .dataframe thead th {\n",
       "        text-align: right;\n",
       "    }\n",
       "</style>\n",
       "<table border=\"1\" class=\"dataframe\">\n",
       "  <thead>\n",
       "    <tr style=\"text-align: right;\">\n",
       "      <th></th>\n",
       "      <th>image_id</th>\n",
       "      <th>target</th>\n",
       "    </tr>\n",
       "  </thead>\n",
       "  <tbody>\n",
       "    <tr>\n",
       "      <th>0</th>\n",
       "      <td>002a34c58c5b758217ed1f584ccbcfe9</td>\n",
       "      <td>0.013326</td>\n",
       "    </tr>\n",
       "    <tr>\n",
       "      <th>1</th>\n",
       "      <td>004f33259ee4aef671c2b95d54e4be68</td>\n",
       "      <td>0.037235</td>\n",
       "    </tr>\n",
       "    <tr>\n",
       "      <th>2</th>\n",
       "      <td>008bdde2af2462e86fd373a445d0f4cd</td>\n",
       "      <td>0.939700</td>\n",
       "    </tr>\n",
       "    <tr>\n",
       "      <th>3</th>\n",
       "      <td>009bc039326338823ca3aa84381f17f1</td>\n",
       "      <td>0.123799</td>\n",
       "    </tr>\n",
       "    <tr>\n",
       "      <th>4</th>\n",
       "      <td>00a2145de1886cb9eb88869c85d74080</td>\n",
       "      <td>0.654006</td>\n",
       "    </tr>\n",
       "  </tbody>\n",
       "</table>\n",
       "</div>"
      ],
      "text/plain": [
       "                           image_id    target\n",
       "0  002a34c58c5b758217ed1f584ccbcfe9  0.013326\n",
       "1  004f33259ee4aef671c2b95d54e4be68  0.037235\n",
       "2  008bdde2af2462e86fd373a445d0f4cd  0.939700\n",
       "3  009bc039326338823ca3aa84381f17f1  0.123799\n",
       "4  00a2145de1886cb9eb88869c85d74080  0.654006"
      ]
     },
     "execution_count": 5,
     "metadata": {},
     "output_type": "execute_result"
    }
   ],
   "source": [
    "pred_2cls.head()"
   ]
  },
  {
   "cell_type": "code",
   "execution_count": 6,
   "metadata": {
    "execution": {
     "iopub.execute_input": "2021-03-30T19:05:34.841283Z",
     "iopub.status.busy": "2021-03-30T19:05:34.838777Z",
     "iopub.status.idle": "2021-03-30T19:05:34.854234Z",
     "shell.execute_reply": "2021-03-30T19:05:34.853634Z"
    },
    "papermill": {
     "duration": 0.040396,
     "end_time": "2021-03-30T19:05:34.854341",
     "exception": false,
     "start_time": "2021-03-30T19:05:34.813945",
     "status": "completed"
    },
    "tags": []
   },
   "outputs": [
    {
     "data": {
      "text/html": [
       "<div>\n",
       "<style scoped>\n",
       "    .dataframe tbody tr th:only-of-type {\n",
       "        vertical-align: middle;\n",
       "    }\n",
       "\n",
       "    .dataframe tbody tr th {\n",
       "        vertical-align: top;\n",
       "    }\n",
       "\n",
       "    .dataframe thead th {\n",
       "        text-align: right;\n",
       "    }\n",
       "</style>\n",
       "<table border=\"1\" class=\"dataframe\">\n",
       "  <thead>\n",
       "    <tr style=\"text-align: right;\">\n",
       "      <th></th>\n",
       "      <th>image_id</th>\n",
       "      <th>PredictionString</th>\n",
       "      <th>target</th>\n",
       "    </tr>\n",
       "  </thead>\n",
       "  <tbody>\n",
       "    <tr>\n",
       "      <th>0</th>\n",
       "      <td>83caa8a85e03606cf57e49147d7ac569</td>\n",
       "      <td>11 0.013 1208 453 1474 534 13 0.018 513 1080 7...</td>\n",
       "      <td>0.970583</td>\n",
       "    </tr>\n",
       "    <tr>\n",
       "      <th>1</th>\n",
       "      <td>7550347fa2bb96c2354a3716dfa3a69c</td>\n",
       "      <td>13 0.011 1956 1124 2084 1194 5 0.012 332 1898 ...</td>\n",
       "      <td>0.039873</td>\n",
       "    </tr>\n",
       "    <tr>\n",
       "      <th>2</th>\n",
       "      <td>74b23792db329cff5843e36efb8aa65a</td>\n",
       "      <td>11 0.012 2314 2398 2420 2565 10 0.012 2314 239...</td>\n",
       "      <td>0.010240</td>\n",
       "    </tr>\n",
       "    <tr>\n",
       "      <th>3</th>\n",
       "      <td>94568a546be103177cb582d3e91cd2d8</td>\n",
       "      <td>11 0.011 732 721 921 793 11 0.011 678 679 886 ...</td>\n",
       "      <td>0.065679</td>\n",
       "    </tr>\n",
       "    <tr>\n",
       "      <th>4</th>\n",
       "      <td>6da36354fc904b63bc03eb3884e0c35c</td>\n",
       "      <td>11 0.01 1323 325 1484 399 13 0.011 1492 838 17...</td>\n",
       "      <td>0.838772</td>\n",
       "    </tr>\n",
       "  </tbody>\n",
       "</table>\n",
       "</div>"
      ],
      "text/plain": [
       "                           image_id  \\\n",
       "0  83caa8a85e03606cf57e49147d7ac569   \n",
       "1  7550347fa2bb96c2354a3716dfa3a69c   \n",
       "2  74b23792db329cff5843e36efb8aa65a   \n",
       "3  94568a546be103177cb582d3e91cd2d8   \n",
       "4  6da36354fc904b63bc03eb3884e0c35c   \n",
       "\n",
       "                                    PredictionString    target  \n",
       "0  11 0.013 1208 453 1474 534 13 0.018 513 1080 7...  0.970583  \n",
       "1  13 0.011 1956 1124 2084 1194 5 0.012 332 1898 ...  0.039873  \n",
       "2  11 0.012 2314 2398 2420 2565 10 0.012 2314 239...  0.010240  \n",
       "3  11 0.011 732 721 921 793 11 0.011 678 679 886 ...  0.065679  \n",
       "4  11 0.01 1323 325 1484 399 13 0.011 1492 838 17...  0.838772  "
      ]
     },
     "execution_count": 6,
     "metadata": {},
     "output_type": "execute_result"
    }
   ],
   "source": [
    "pred = pd.merge(pred_14cls, pred_2cls, on = 'image_id', how = 'left')\n",
    "pred.head()"
   ]
  },
  {
   "cell_type": "markdown",
   "metadata": {
    "papermill": {
     "duration": 0.014485,
     "end_time": "2021-03-30T19:05:34.883505",
     "exception": false,
     "start_time": "2021-03-30T19:05:34.869020",
     "status": "completed"
    },
    "tags": []
   },
   "source": [
    "# Before 2 Class Filter Number of `No Finding`"
   ]
  },
  {
   "cell_type": "code",
   "execution_count": 7,
   "metadata": {
    "execution": {
     "iopub.execute_input": "2021-03-30T19:05:34.922333Z",
     "iopub.status.busy": "2021-03-30T19:05:34.921362Z",
     "iopub.status.idle": "2021-03-30T19:05:34.926591Z",
     "shell.execute_reply": "2021-03-30T19:05:34.927103Z"
    },
    "papermill": {
     "duration": 0.029178,
     "end_time": "2021-03-30T19:05:34.927262",
     "exception": false,
     "start_time": "2021-03-30T19:05:34.898084",
     "status": "completed"
    },
    "tags": []
   },
   "outputs": [
    {
     "data": {
      "text/plain": [
       "14 1 0 0 1 1    11\n",
       "Name: PredictionString, dtype: int64"
      ]
     },
     "execution_count": 7,
     "metadata": {},
     "output_type": "execute_result"
    }
   ],
   "source": [
    "pred['PredictionString'].value_counts().iloc[[0]]"
   ]
  },
  {
   "cell_type": "markdown",
   "metadata": {
    "papermill": {
     "duration": 0.014895,
     "end_time": "2021-03-30T19:05:34.957619",
     "exception": false,
     "start_time": "2021-03-30T19:05:34.942724",
     "status": "completed"
    },
    "tags": []
   },
   "source": [
    "# 2 Class Filter"
   ]
  },
  {
   "cell_type": "code",
   "execution_count": 8,
   "metadata": {
    "execution": {
     "iopub.execute_input": "2021-03-30T19:05:34.990988Z",
     "iopub.status.busy": "2021-03-30T19:05:34.990344Z",
     "iopub.status.idle": "2021-03-30T19:05:34.994791Z",
     "shell.execute_reply": "2021-03-30T19:05:34.995304Z"
    },
    "papermill": {
     "duration": 0.022597,
     "end_time": "2021-03-30T19:05:34.995452",
     "exception": false,
     "start_time": "2021-03-30T19:05:34.972855",
     "status": "completed"
    },
    "tags": []
   },
   "outputs": [],
   "source": [
    "def filter_2cls(row, thr=thr):\n",
    "    if row['target']<thr:\n",
    "        row['PredictionString'] = '14 1 0 0 1 1'\n",
    "    return row"
   ]
  },
  {
   "cell_type": "code",
   "execution_count": 9,
   "metadata": {
    "execution": {
     "iopub.execute_input": "2021-03-30T19:05:35.031578Z",
     "iopub.status.busy": "2021-03-30T19:05:35.030919Z",
     "iopub.status.idle": "2021-03-30T19:05:35.336709Z",
     "shell.execute_reply": "2021-03-30T19:05:35.337319Z"
    },
    "papermill": {
     "duration": 0.326491,
     "end_time": "2021-03-30T19:05:35.337467",
     "exception": false,
     "start_time": "2021-03-30T19:05:35.010976",
     "status": "completed"
    },
    "tags": []
   },
   "outputs": [
    {
     "data": {
      "text/html": [
       "<div>\n",
       "<style scoped>\n",
       "    .dataframe tbody tr th:only-of-type {\n",
       "        vertical-align: middle;\n",
       "    }\n",
       "\n",
       "    .dataframe tbody tr th {\n",
       "        vertical-align: top;\n",
       "    }\n",
       "\n",
       "    .dataframe thead th {\n",
       "        text-align: right;\n",
       "    }\n",
       "</style>\n",
       "<table border=\"1\" class=\"dataframe\">\n",
       "  <thead>\n",
       "    <tr style=\"text-align: right;\">\n",
       "      <th></th>\n",
       "      <th>image_id</th>\n",
       "      <th>PredictionString</th>\n",
       "      <th>target</th>\n",
       "    </tr>\n",
       "  </thead>\n",
       "  <tbody>\n",
       "    <tr>\n",
       "      <th>0</th>\n",
       "      <td>83caa8a85e03606cf57e49147d7ac569</td>\n",
       "      <td>11 0.013 1208 453 1474 534 13 0.018 513 1080 7...</td>\n",
       "      <td>0.970583</td>\n",
       "    </tr>\n",
       "    <tr>\n",
       "      <th>1</th>\n",
       "      <td>7550347fa2bb96c2354a3716dfa3a69c</td>\n",
       "      <td>14 1 0 0 1 1</td>\n",
       "      <td>0.039873</td>\n",
       "    </tr>\n",
       "    <tr>\n",
       "      <th>2</th>\n",
       "      <td>74b23792db329cff5843e36efb8aa65a</td>\n",
       "      <td>14 1 0 0 1 1</td>\n",
       "      <td>0.010240</td>\n",
       "    </tr>\n",
       "    <tr>\n",
       "      <th>3</th>\n",
       "      <td>94568a546be103177cb582d3e91cd2d8</td>\n",
       "      <td>14 1 0 0 1 1</td>\n",
       "      <td>0.065679</td>\n",
       "    </tr>\n",
       "    <tr>\n",
       "      <th>4</th>\n",
       "      <td>6da36354fc904b63bc03eb3884e0c35c</td>\n",
       "      <td>11 0.01 1323 325 1484 399 13 0.011 1492 838 17...</td>\n",
       "      <td>0.838772</td>\n",
       "    </tr>\n",
       "  </tbody>\n",
       "</table>\n",
       "</div>"
      ],
      "text/plain": [
       "                           image_id  \\\n",
       "0  83caa8a85e03606cf57e49147d7ac569   \n",
       "1  7550347fa2bb96c2354a3716dfa3a69c   \n",
       "2  74b23792db329cff5843e36efb8aa65a   \n",
       "3  94568a546be103177cb582d3e91cd2d8   \n",
       "4  6da36354fc904b63bc03eb3884e0c35c   \n",
       "\n",
       "                                    PredictionString    target  \n",
       "0  11 0.013 1208 453 1474 534 13 0.018 513 1080 7...  0.970583  \n",
       "1                                       14 1 0 0 1 1  0.039873  \n",
       "2                                       14 1 0 0 1 1  0.010240  \n",
       "3                                       14 1 0 0 1 1  0.065679  \n",
       "4  11 0.01 1323 325 1484 399 13 0.011 1492 838 17...  0.838772  "
      ]
     },
     "execution_count": 9,
     "metadata": {},
     "output_type": "execute_result"
    }
   ],
   "source": [
    "sub = pred.apply(filter_2cls, axis=1)\n",
    "sub.head()"
   ]
  },
  {
   "cell_type": "markdown",
   "metadata": {
    "papermill": {
     "duration": 0.015863,
     "end_time": "2021-03-30T19:05:35.369431",
     "exception": false,
     "start_time": "2021-03-30T19:05:35.353568",
     "status": "completed"
    },
    "tags": []
   },
   "source": [
    "# After 2 Class Filter Number of `No Finding`"
   ]
  },
  {
   "cell_type": "code",
   "execution_count": 10,
   "metadata": {
    "execution": {
     "iopub.execute_input": "2021-03-30T19:05:35.404719Z",
     "iopub.status.busy": "2021-03-30T19:05:35.404072Z",
     "iopub.status.idle": "2021-03-30T19:05:35.412417Z",
     "shell.execute_reply": "2021-03-30T19:05:35.412897Z"
    },
    "papermill": {
     "duration": 0.027432,
     "end_time": "2021-03-30T19:05:35.413067",
     "exception": false,
     "start_time": "2021-03-30T19:05:35.385635",
     "status": "completed"
    },
    "tags": []
   },
   "outputs": [
    {
     "data": {
      "text/plain": [
       "14 1 0 0 1 1    1863\n",
       "Name: PredictionString, dtype: int64"
      ]
     },
     "execution_count": 10,
     "metadata": {},
     "output_type": "execute_result"
    }
   ],
   "source": [
    "sub['PredictionString'].value_counts().iloc[[0]]"
   ]
  },
  {
   "cell_type": "markdown",
   "metadata": {
    "papermill": {
     "duration": 0.016409,
     "end_time": "2021-03-30T19:05:35.445715",
     "exception": false,
     "start_time": "2021-03-30T19:05:35.429306",
     "status": "completed"
    },
    "tags": []
   },
   "source": [
    "As we can see from above that applying `2 class filter` Number of `'No Finding'`increases significanly. **[614->2010]**"
   ]
  },
  {
   "cell_type": "code",
   "execution_count": 11,
   "metadata": {
    "execution": {
     "iopub.execute_input": "2021-03-30T19:05:35.481629Z",
     "iopub.status.busy": "2021-03-30T19:05:35.481024Z",
     "iopub.status.idle": "2021-03-30T19:05:35.814564Z",
     "shell.execute_reply": "2021-03-30T19:05:35.813895Z"
    },
    "papermill": {
     "duration": 0.352525,
     "end_time": "2021-03-30T19:05:35.814704",
     "exception": false,
     "start_time": "2021-03-30T19:05:35.462179",
     "status": "completed"
    },
    "tags": []
   },
   "outputs": [],
   "source": [
    "sub[['image_id', 'PredictionString']].to_csv('yolov5x_fold4_finetune768_2cls_filter_0.07_submission.csv',index = False)"
   ]
  },
  {
   "cell_type": "markdown",
   "metadata": {
    "papermill": {
     "duration": 0.016203,
     "end_time": "2021-03-30T19:05:35.847842",
     "exception": false,
     "start_time": "2021-03-30T19:05:35.831639",
     "status": "completed"
    },
    "tags": []
   },
   "source": [
    "# Result\n",
    "As we can see applying the `2 class filter` improves the result significantly, from `0.154` to `0.201`. But bear in mind that choosing the `thershold` could be a bit `tricky`."
   ]
  },
  {
   "cell_type": "markdown",
   "metadata": {
    "papermill": {
     "duration": 0.016192,
     "end_time": "2021-03-30T19:05:35.880700",
     "exception": false,
     "start_time": "2021-03-30T19:05:35.864508",
     "status": "completed"
    },
    "tags": []
   },
   "source": [
    "# Please Upvote If You Have Found This Notebook Useful 😃"
   ]
  }
 ],
 "metadata": {
  "kernelspec": {
   "display_name": "Python 3",
   "language": "python",
   "name": "python3"
  },
  "language_info": {
   "codemirror_mode": {
    "name": "ipython",
    "version": 3
   },
   "file_extension": ".py",
   "mimetype": "text/x-python",
   "name": "python",
   "nbconvert_exporter": "python",
   "pygments_lexer": "ipython3",
   "version": "3.7.6"
  },
  "papermill": {
   "duration": 6.324753,
   "end_time": "2021-03-30T19:05:36.004289",
   "environment_variables": {},
   "exception": null,
   "input_path": "__notebook__.ipynb",
   "output_path": "__notebook__.ipynb",
   "parameters": {},
   "start_time": "2021-03-30T19:05:29.679536",
   "version": "2.1.0"
  }
 },
 "nbformat": 4,
 "nbformat_minor": 4
}
